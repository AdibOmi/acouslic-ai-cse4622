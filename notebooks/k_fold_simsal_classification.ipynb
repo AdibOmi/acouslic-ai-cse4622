{
 "cells": [
  {
   "cell_type": "code",
   "execution_count": 1,
   "id": "3d2ee664",
   "metadata": {},
   "outputs": [],
   "source": [
    "# =========================\n",
    "# 0) Imports & config\n",
    "# =========================\n",
    "import os, math, random, json\n",
    "from typing import List, Tuple\n",
    "from collections import defaultdict\n",
    "\n",
    "import numpy as np\n",
    "import torch\n",
    "import torch.nn as nn\n",
    "import torch.nn.functional as F\n",
    "from torch import amp\n",
    "from torch.utils.data import Dataset, DataLoader, ConcatDataset, Sampler\n",
    "from tqdm import tqdm\n",
    "\n",
    "try:\n",
    "    from torchvision.transforms import v2 as T\n",
    "    _HAS_V2 = True\n",
    "except:\n",
    "    import torchvision.transforms as T\n",
    "    _HAS_V2 = False\n",
    "\n",
    "from sklearn.model_selection import StratifiedKFold\n",
    "from sklearn.metrics import precision_recall_fscore_support\n",
    "\n",
    "# ---- Paths ----\n",
    "TRAIN_DIR = \"D:/dataset/npz_80_tiny\"                    # 210 tiny patients (80 frames)\n",
    "VAL_DIR   = \"D:/dataset/converted_classifier_npz_compact\" # 300 compact patients (840 frames)\n",
    "SAVE_DIR  = \"D:/acouslic-ai-cse4622/saved_weights\"\n",
    "os.makedirs(SAVE_DIR, exist_ok=True)\n",
    "\n",
    "# Dev45 (for CV pool) & Final Test45 (held-out)\n",
    "DEV45_SLICE   = (210, 255)  # [210:255] → 45 patients\n",
    "TEST45_SLICE  = (255, 300)  # [255:300] → 45 patients\n",
    "\n",
    "# ---- Training hyperparams ----\n",
    "IMAGE_SIZE   = 224\n",
    "BATCH_SIZE   = 32\n",
    "VAL_BATCH    = 64\n",
    "EPOCHS       = 20\n",
    "PATIENCE     = 5\n",
    "LR_HEAD      = 1e-3\n",
    "LR_ALL       = 1e-4\n",
    "WEIGHT_DEC   = 1e-4\n",
    "SEED         = 42\n",
    "K_FOLDS      = 5\n",
    "\n",
    "device = \"cuda\" if torch.cuda.is_available() else \"cpu\"\n",
    "random.seed(SEED); np.random.seed(SEED); torch.manual_seed(SEED)\n",
    "torch.backends.cudnn.benchmark = True\n"
   ]
  },
  {
   "cell_type": "code",
   "execution_count": 2,
   "id": "ee9de583",
   "metadata": {},
   "outputs": [],
   "source": [
    "# =========================\n",
    "# 1) Utils: letterbox + dataset\n",
    "# =========================\n",
    "def _letterbox_to_square(x: torch.Tensor, size: int = 224) -> torch.Tensor:\n",
    "    \"\"\"x: (B,1,H,W) or (1,H,W) in [0,1] → square pad → resize to (..,1,size,size)\"\"\"\n",
    "    is_batched = (x.dim() == 4)\n",
    "    if not is_batched:\n",
    "        x = x.unsqueeze(0)  # (1,1,H,W)\n",
    "    _, _, H, W = x.shape\n",
    "    s = max(H, W)\n",
    "    pad_h = (s - H) // 2\n",
    "    pad_w = (s - W) // 2\n",
    "    x = F.pad(x, (pad_w, s - W - pad_w, pad_h, s - H - pad_h))  # L,R,T,B\n",
    "    x = F.interpolate(x, size=(size, size), mode=\"bilinear\", align_corners=False)\n",
    "    return x if is_batched else x.squeeze(0)\n",
    "\n",
    "class PreloadedNPZFrameDataset(Dataset):\n",
    "    \"\"\"\n",
    "    Loads all frames from a list of NPZ files in one dir into RAM.\n",
    "    - Converts to grayscale tensor in [-1,1]\n",
    "    - Stores per-frame patient_ids (from npz['uuid'] if present, else filename stem)\n",
    "    \"\"\"\n",
    "    def __init__(self, npz_dir: str, files: List[str], binary: bool = True,\n",
    "                 out_size: int = 224, resize_mode: str = \"letterbox\",\n",
    "                 dtype: torch.dtype = torch.float16):\n",
    "        self.binary = binary\n",
    "        self.out_size = out_size\n",
    "        self.resize_mode = resize_mode\n",
    "        self.dtype = dtype\n",
    "\n",
    "        imgs_all, labels_all, pids_all = [], [], []\n",
    "\n",
    "        for f in files:\n",
    "            path = os.path.join(npz_dir, f)\n",
    "            case = np.load(path, allow_pickle=True)\n",
    "            imgs = case[\"image\"]                    # (T,H,W) uint8\n",
    "            y    = case[\"label\"].astype(np.int64)   # (T,)\n",
    "            if binary:\n",
    "                y[y == 2] = 1\n",
    "\n",
    "            pid = str(case[\"uuid\"]) if \"uuid\" in case else os.path.splitext(f)[0]\n",
    "            tframes = imgs.shape[0]\n",
    "            pids_all.append(torch.full((tframes,), hash(pid) & 0x7fffffff, dtype=torch.int64))\n",
    "\n",
    "            t = torch.from_numpy(imgs).unsqueeze(1).float() / 255.0  # (T,1,H,W) [0,1]\n",
    "            if resize_mode == \"letterbox\":\n",
    "                out_frames = [ _letterbox_to_square(fr, size=out_size) for fr in t ]\n",
    "                t = torch.stack(out_frames, dim=0)  # (T,1,S,S)\n",
    "            else:\n",
    "                t = F.interpolate(t, size=(out_size, out_size), mode=\"bilinear\", align_corners=False)\n",
    "\n",
    "            t = (t - 0.5) / 0.5  # [-1,1]\n",
    "            imgs_all.append(t.to(dtype=dtype).cpu())\n",
    "            labels_all.append(torch.from_numpy(y).long())\n",
    "\n",
    "        self.images      = torch.cat(imgs_all, dim=0)            # (N,1,S,S)\n",
    "        self.labels      = torch.cat(labels_all, dim=0)          # (N,)\n",
    "        self.patient_ids = torch.cat(pids_all, dim=0)            # (N,)\n",
    "\n",
    "    def __len__(self): return self.labels.numel()\n",
    "    def __getitem__(self, idx): return self.images[idx], self.labels[idx]\n"
   ]
  },
  {
   "cell_type": "code",
   "execution_count": 3,
   "id": "bafd0fa7",
   "metadata": {},
   "outputs": [],
   "source": [
    "# =========================\n",
    "# 2) Safe transforms + wrapper\n",
    "# =========================\n",
    "class AddGaussianNoise(nn.Module):\n",
    "    def __init__(self, std=0.03): super().__init__(); self.std=float(std)\n",
    "    def forward(self, x): return x + torch.randn_like(x)*self.std if self.std>0 else x\n",
    "\n",
    "# train-time augs (operate on tensors already in [-1,1])\n",
    "train_tf = T.Compose([\n",
    "    T.RandomHorizontalFlip(p=0.3),\n",
    "    T.RandomVerticalFlip(p=0.1),\n",
    "    T.RandomRotation(degrees=15),\n",
    "    T.RandomAffine(degrees=0, translate=(0.08, 0.08), scale=(0.9, 1.1)),\n",
    "    T.RandomApply([T.GaussianBlur(kernel_size=3, sigma=(0.1, 1.0))], p=0.2),\n",
    "    T.RandomApply([AddGaussianNoise(0.03)], p=0.2),\n",
    "])\n",
    "\n",
    "# validation: true no-op\n",
    "val_tf = T.Compose([T.Identity()]) if _HAS_V2 else T.Compose([T.RandomApply([], p=0.0)])\n",
    "\n",
    "class WithTransform(Dataset):\n",
    "    def __init__(self, base: Dataset, transform=None):\n",
    "        self.base = base\n",
    "        self.transform = transform\n",
    "    def __len__(self): return len(self.base)\n",
    "    def __getitem__(self, idx):\n",
    "        x, y = self.base[idx]\n",
    "        x = x.to(torch.float32)\n",
    "        if self.transform is not None:\n",
    "            x = self.transform(x)\n",
    "        return x, y\n"
   ]
  },
  {
   "cell_type": "code",
   "execution_count": 4,
   "id": "7f758d37",
   "metadata": {},
   "outputs": [],
   "source": [
    "# =========================\n",
    "# 3) Patient-aware balanced sampler\n",
    "# =========================\n",
    "class PatientAwareBalancedBatchSampler(Sampler):\n",
    "    \"\"\"\n",
    "    50/50 pos/neg batches that also mix patients.\n",
    "    \"\"\"\n",
    "    def __init__(self, labels, patient_ids, batch_size=32, frames_per_patient_side=2, pos_label=1, seed=42):\n",
    "        assert batch_size % 2 == 0 and batch_size >= 2\n",
    "        self.labels = list(map(int, labels))\n",
    "        self.pids   = list(map(int, patient_ids))\n",
    "        self.half   = batch_size // 2\n",
    "        self.k      = max(1, int(frames_per_patient_side))\n",
    "        self.pos_label = pos_label\n",
    "        self.rng = random.Random(seed)\n",
    "\n",
    "        pos_by_pid = defaultdict(list)\n",
    "        neg_by_pid = defaultdict(list)\n",
    "        for i, (y, pid) in enumerate(zip(self.labels, self.pids)):\n",
    "            if y == pos_label: pos_by_pid[pid].append(i)\n",
    "            elif y == 0:       neg_by_pid[pid].append(i)\n",
    "\n",
    "        if not pos_by_pid or not neg_by_pid:\n",
    "            raise ValueError(\"Need patients with both pos and neg frames.\")\n",
    "\n",
    "        self.pos_by_pid = {pid: idxs for pid, idxs in pos_by_pid.items() if idxs}\n",
    "        self.neg_by_pid = {pid: idxs for pid, idxs in neg_by_pid.items() if idxs}\n",
    "        self.pos_patients = list(self.pos_by_pid.keys())\n",
    "        self.neg_patients = list(self.neg_by_pid.keys())\n",
    "\n",
    "        self.num_pos = sum(len(v) for v in self.pos_by_pid.values())\n",
    "        self.steps   = math.ceil(self.num_pos / self.half)\n",
    "\n",
    "    def __len__(self): return self.steps\n",
    "\n",
    "    def _multi_patient_take(self, pools_by_pid, patient_ids, need):\n",
    "        rng = self.rng\n",
    "        out = []\n",
    "        active = {pid: rng.sample(idxs, k=len(idxs)) for pid, idxs in pools_by_pid.items()}\n",
    "        ring = patient_ids[:]\n",
    "        rng.shuffle(ring)\n",
    "        head = 0\n",
    "        while len(out) < need:\n",
    "            if head >= len(ring):\n",
    "                head = 0\n",
    "                rng.shuffle(ring)\n",
    "            pid = ring[head]; head += 1\n",
    "            pool = active.get(pid, [])\n",
    "            if not pool: continue\n",
    "            take = min(self.k, len(pool), need - len(out))\n",
    "            out.extend(pool[:take])\n",
    "            active[pid] = pool[take:]\n",
    "            if all(len(v) == 0 for v in active.values()):\n",
    "                active = {pid: rng.sample(pools_by_pid[pid], k=len(pools_by_pid[pid])) for pid in pools_by_pid}\n",
    "        return out\n",
    "\n",
    "    def __iter__(self):\n",
    "        rng = self.rng\n",
    "        all_pos = []\n",
    "        for pid, idxs in self.pos_by_pid.items():\n",
    "            all_pos.extend(idxs)\n",
    "        rng.shuffle(all_pos)\n",
    "\n",
    "        total_pos_needed = self.steps * self.half\n",
    "        if len(all_pos) < total_pos_needed:\n",
    "            reps = math.ceil(total_pos_needed / len(all_pos))\n",
    "            all_pos = (all_pos * reps)[:total_pos_needed]\n",
    "        else:\n",
    "            all_pos = all_pos[:total_pos_needed]\n",
    "\n",
    "        pos_cursor = 0\n",
    "        for _ in range(self.steps):\n",
    "            pos_slice = all_pos[pos_cursor: pos_cursor + self.half]\n",
    "            pos_cursor += self.half\n",
    "            by_pid = defaultdict(list)\n",
    "            for i in pos_slice:\n",
    "                by_pid[self.pids[i]].append(i)\n",
    "\n",
    "            p_batch = []\n",
    "            pids_shuf = list(by_pid.keys())\n",
    "            rng.shuffle(pids_shuf)\n",
    "            for pid in pids_shuf:\n",
    "                take = min(self.k, len(by_pid[pid]), self.half - len(p_batch))\n",
    "                if take > 0: p_batch.extend(by_pid[pid][:take])\n",
    "                if len(p_batch) == self.half: break\n",
    "            if len(p_batch) < self.half:\n",
    "                extras = []\n",
    "                for pid in pids_shuf:\n",
    "                    extras.extend(by_pid[pid][self.k:])\n",
    "                p_batch = (p_batch + extras)[:self.half]\n",
    "\n",
    "            n_batch = self._multi_patient_take(self.neg_by_pid, self.neg_patients, self.half)\n",
    "            batch = p_batch + n_batch\n",
    "            rng.shuffle(batch)\n",
    "            yield batch\n"
   ]
  },
  {
   "cell_type": "code",
   "execution_count": 5,
   "id": "17f68308",
   "metadata": {},
   "outputs": [],
   "source": [
    "# =========================\n",
    "# 4) Model (ResNet50 1ch)\n",
    "# =========================\n",
    "import torchvision.models as models\n",
    "\n",
    "class FrameClassifier(nn.Module):\n",
    "    def __init__(self, num_classes=2):\n",
    "        super().__init__()\n",
    "        try:\n",
    "            backbone = models.resnet50(weights=models.ResNet50_Weights.IMAGENET1K_V1)\n",
    "        except:\n",
    "            backbone = models.resnet50(pretrained=True)\n",
    "\n",
    "        old = backbone.conv1\n",
    "        new = nn.Conv2d(1, 64, kernel_size=7, stride=2, padding=3, bias=False)\n",
    "        with torch.no_grad():\n",
    "            new.weight.copy_(old.weight.mean(dim=1, keepdim=True))\n",
    "        backbone.conv1 = new\n",
    "\n",
    "        backbone.fc = nn.Linear(backbone.fc.in_features, num_classes)\n",
    "        self.backbone = backbone\n",
    "\n",
    "    def forward(self, x): return self.backbone(x)\n"
   ]
  },
  {
   "cell_type": "code",
   "execution_count": 6,
   "id": "6bb33d01",
   "metadata": {},
   "outputs": [],
   "source": [
    "# =========================\n",
    "# 5) SimSiam pretrain (once) on CV pool (255 patients)\n",
    "# =========================\n",
    "class TwoCropsTransform(nn.Module):\n",
    "    def __init__(self, base): super().__init__(); self.base = base\n",
    "    def forward(self, x):\n",
    "        v1 = self.base(x); v2 = self.base(x)\n",
    "        return v1, v2\n",
    "\n",
    "class SSLPairDataset(Dataset):\n",
    "    def __init__(self, base: Dataset, transform):\n",
    "        self.base = base; self.transform = transform\n",
    "    def __len__(self): return len(self.base)\n",
    "    def __getitem__(self, idx):\n",
    "        x, _ = self.base[idx]\n",
    "        x = x.to(torch.float32)\n",
    "        v1, v2 = self.transform(x)\n",
    "        return v1, v2\n",
    "\n",
    "class MLP(nn.Module):\n",
    "    def __init__(self, in_dim, hidden=2048, out_dim=256):\n",
    "        super().__init__()\n",
    "        self.net = nn.Sequential(\n",
    "            nn.Linear(in_dim, hidden, bias=False),\n",
    "            nn.BatchNorm1d(hidden),\n",
    "            nn.ReLU(inplace=True),\n",
    "            nn.Linear(hidden, out_dim, bias=True),\n",
    "        )\n",
    "    def forward(self, x): return self.net(x)\n",
    "\n",
    "class Predictor(nn.Module):\n",
    "    def __init__(self, in_dim=256, hidden=256, out_dim=256):\n",
    "        super().__init__()\n",
    "        self.net = nn.Sequential(\n",
    "            nn.Linear(in_dim, hidden, bias=False),\n",
    "            nn.BatchNorm1d(hidden),\n",
    "            nn.ReLU(inplace=True),\n",
    "            nn.Linear(hidden, out_dim),\n",
    "        )\n",
    "    def forward(self, x): return self.net(x)\n",
    "\n",
    "class SimSiamResNet(nn.Module):\n",
    "    def __init__(self, start_from_imagenet=True):\n",
    "        super().__init__()\n",
    "        try:\n",
    "            backbone = models.resnet50(weights=models.ResNet50_Weights.IMAGENET1K_V1 if start_from_imagenet else None)\n",
    "        except:\n",
    "            backbone = models.resnet50(pretrained=start_from_imagenet)\n",
    "        old = backbone.conv1\n",
    "        new = nn.Conv2d(1,64,kernel_size=7,stride=2,padding=3,bias=False)\n",
    "        with torch.no_grad():\n",
    "            if old.weight.shape[1]==3:\n",
    "                new.weight.copy_(old.weight.mean(dim=1, keepdim=True))\n",
    "            else:\n",
    "                nn.init.kaiming_normal_(new.weight, mode=\"fan_out\", nonlinearity=\"relu\")\n",
    "        backbone.conv1 = new\n",
    "        feat_dim = backbone.fc.in_features\n",
    "        backbone.fc = nn.Identity()\n",
    "        self.encoder   = backbone\n",
    "        self.projector = MLP(feat_dim, 2048, 256)\n",
    "        self.predictor = Predictor(256, 256, 256)\n",
    "\n",
    "    def forward(self, x1, x2):\n",
    "        f1 = self.encoder(x1); f2 = self.encoder(x2)\n",
    "        z1 = self.projector(f1); z2 = self.projector(f2)\n",
    "        p1 = self.predictor(z1); p2 = self.predictor(z2)\n",
    "        return p1, z1.detach(), p2, z2.detach()\n",
    "\n",
    "def neg_cos_sim(p, z):\n",
    "    p = F.normalize(p, dim=1); z = F.normalize(z, dim=1)\n",
    "    return - (p * z).sum(dim=1).mean()\n",
    "\n",
    "# SSL transforms\n",
    "ssl_base_aug = T.Compose([\n",
    "    T.RandomHorizontalFlip(p=0.3),\n",
    "    T.RandomVerticalFlip(p=0.1),\n",
    "    T.RandomRotation(degrees=15),\n",
    "    T.RandomAffine(degrees=0, translate=(0.08,0.08), scale=(0.9,1.1)),\n",
    "    T.RandomApply([T.GaussianBlur(kernel_size=3, sigma=(0.1,1.0))], p=0.2),\n",
    "    T.RandomApply([AddGaussianNoise(0.03)], p=0.2),\n",
    "])\n",
    "ssl_transform = TwoCropsTransform(ssl_base_aug)\n"
   ]
  },
  {
   "cell_type": "code",
   "execution_count": 7,
   "id": "e6f45159",
   "metadata": {},
   "outputs": [
    {
     "name": "stdout",
     "output_type": "stream",
     "text": [
      "[CV POOL] 255 patients (210 tiny + 45 compact)\n",
      "[TEST]   45 patients (held-out)\n"
     ]
    },
    {
     "name": "stderr",
     "output_type": "stream",
     "text": [
      "[SSL] SimSiam 1/30: 100%|██████████| 426/426 [05:39<00:00,  1.26it/s, loss=-0.922]\n"
     ]
    },
    {
     "name": "stdout",
     "output_type": "stream",
     "text": [
      "Epoch 1: SimSiam loss -0.9220\n",
      "  ✅ Saved best encoder @ epoch 1 (loss -0.9220)\n"
     ]
    },
    {
     "name": "stderr",
     "output_type": "stream",
     "text": [
      "[SSL] SimSiam 2/30: 100%|██████████| 426/426 [05:33<00:00,  1.28it/s, loss=-0.962]\n"
     ]
    },
    {
     "name": "stdout",
     "output_type": "stream",
     "text": [
      "Epoch 2: SimSiam loss -0.9615\n",
      "  ✅ Saved best encoder @ epoch 2 (loss -0.9615)\n"
     ]
    },
    {
     "name": "stderr",
     "output_type": "stream",
     "text": [
      "[SSL] SimSiam 3/30: 100%|██████████| 426/426 [05:27<00:00,  1.30it/s, loss=-0.968]\n"
     ]
    },
    {
     "name": "stdout",
     "output_type": "stream",
     "text": [
      "Epoch 3: SimSiam loss -0.9682\n",
      "  ✅ Saved best encoder @ epoch 3 (loss -0.9682)\n"
     ]
    },
    {
     "name": "stderr",
     "output_type": "stream",
     "text": [
      "[SSL] SimSiam 4/30: 100%|██████████| 426/426 [05:31<00:00,  1.29it/s, loss=-0.97] \n"
     ]
    },
    {
     "name": "stdout",
     "output_type": "stream",
     "text": [
      "Epoch 4: SimSiam loss -0.9700\n",
      "  ✅ Saved best encoder @ epoch 4 (loss -0.9700)\n"
     ]
    },
    {
     "name": "stderr",
     "output_type": "stream",
     "text": [
      "[SSL] SimSiam 5/30: 100%|██████████| 426/426 [05:35<00:00,  1.27it/s, loss=-0.966]\n"
     ]
    },
    {
     "name": "stdout",
     "output_type": "stream",
     "text": [
      "Epoch 5: SimSiam loss -0.9664\n"
     ]
    },
    {
     "name": "stderr",
     "output_type": "stream",
     "text": [
      "[SSL] SimSiam 6/30: 100%|██████████| 426/426 [05:28<00:00,  1.30it/s, loss=-0.967]\n"
     ]
    },
    {
     "name": "stdout",
     "output_type": "stream",
     "text": [
      "Epoch 6: SimSiam loss -0.9667\n"
     ]
    },
    {
     "name": "stderr",
     "output_type": "stream",
     "text": [
      "[SSL] SimSiam 7/30: 100%|██████████| 426/426 [05:34<00:00,  1.27it/s, loss=-0.975]\n"
     ]
    },
    {
     "name": "stdout",
     "output_type": "stream",
     "text": [
      "Epoch 7: SimSiam loss -0.9753\n",
      "  ✅ Saved best encoder @ epoch 7 (loss -0.9753)\n"
     ]
    },
    {
     "name": "stderr",
     "output_type": "stream",
     "text": [
      "[SSL] SimSiam 8/30: 100%|██████████| 426/426 [05:30<00:00,  1.29it/s, loss=-0.979]\n"
     ]
    },
    {
     "name": "stdout",
     "output_type": "stream",
     "text": [
      "Epoch 8: SimSiam loss -0.9794\n",
      "  ✅ Saved best encoder @ epoch 8 (loss -0.9794)\n"
     ]
    },
    {
     "name": "stderr",
     "output_type": "stream",
     "text": [
      "[SSL] SimSiam 9/30: 100%|██████████| 426/426 [05:29<00:00,  1.29it/s, loss=-0.973]\n"
     ]
    },
    {
     "name": "stdout",
     "output_type": "stream",
     "text": [
      "Epoch 9: SimSiam loss -0.9729\n"
     ]
    },
    {
     "name": "stderr",
     "output_type": "stream",
     "text": [
      "[SSL] SimSiam 10/30: 100%|██████████| 426/426 [05:26<00:00,  1.31it/s, loss=-0.98] \n"
     ]
    },
    {
     "name": "stdout",
     "output_type": "stream",
     "text": [
      "Epoch 10: SimSiam loss -0.9799\n",
      "  ✅ Saved best encoder @ epoch 10 (loss -0.9799)\n"
     ]
    },
    {
     "name": "stderr",
     "output_type": "stream",
     "text": [
      "[SSL] SimSiam 11/30: 100%|██████████| 426/426 [05:29<00:00,  1.29it/s, loss=-0.98] \n"
     ]
    },
    {
     "name": "stdout",
     "output_type": "stream",
     "text": [
      "Epoch 11: SimSiam loss -0.9796\n"
     ]
    },
    {
     "name": "stderr",
     "output_type": "stream",
     "text": [
      "[SSL] SimSiam 12/30: 100%|██████████| 426/426 [05:33<00:00,  1.28it/s, loss=-0.971]\n"
     ]
    },
    {
     "name": "stdout",
     "output_type": "stream",
     "text": [
      "Epoch 12: SimSiam loss -0.9712\n"
     ]
    },
    {
     "name": "stderr",
     "output_type": "stream",
     "text": [
      "[SSL] SimSiam 13/30: 100%|██████████| 426/426 [05:30<00:00,  1.29it/s, loss=-0.98] \n"
     ]
    },
    {
     "name": "stdout",
     "output_type": "stream",
     "text": [
      "Epoch 13: SimSiam loss -0.9805\n",
      "  ✅ Saved best encoder @ epoch 13 (loss -0.9805)\n"
     ]
    },
    {
     "name": "stderr",
     "output_type": "stream",
     "text": [
      "[SSL] SimSiam 14/30: 100%|██████████| 426/426 [05:37<00:00,  1.26it/s, loss=-0.985]\n"
     ]
    },
    {
     "name": "stdout",
     "output_type": "stream",
     "text": [
      "Epoch 14: SimSiam loss -0.9852\n",
      "  ✅ Saved best encoder @ epoch 14 (loss -0.9852)\n"
     ]
    },
    {
     "name": "stderr",
     "output_type": "stream",
     "text": [
      "[SSL] SimSiam 15/30: 100%|██████████| 426/426 [05:42<00:00,  1.24it/s, loss=-0.988]\n"
     ]
    },
    {
     "name": "stdout",
     "output_type": "stream",
     "text": [
      "Epoch 15: SimSiam loss -0.9881\n",
      "  ✅ Saved best encoder @ epoch 15 (loss -0.9881)\n"
     ]
    },
    {
     "name": "stderr",
     "output_type": "stream",
     "text": [
      "[SSL] SimSiam 16/30: 100%|██████████| 426/426 [05:36<00:00,  1.27it/s, loss=-0.992]\n"
     ]
    },
    {
     "name": "stdout",
     "output_type": "stream",
     "text": [
      "Epoch 16: SimSiam loss -0.9921\n",
      "  ✅ Saved best encoder @ epoch 16 (loss -0.9921)\n"
     ]
    },
    {
     "name": "stderr",
     "output_type": "stream",
     "text": [
      "[SSL] SimSiam 17/30: 100%|██████████| 426/426 [05:39<00:00,  1.26it/s, loss=-0.985]\n"
     ]
    },
    {
     "name": "stdout",
     "output_type": "stream",
     "text": [
      "Epoch 17: SimSiam loss -0.9850\n"
     ]
    },
    {
     "name": "stderr",
     "output_type": "stream",
     "text": [
      "[SSL] SimSiam 18/30: 100%|██████████| 426/426 [05:36<00:00,  1.27it/s, loss=-0.989]\n"
     ]
    },
    {
     "name": "stdout",
     "output_type": "stream",
     "text": [
      "Epoch 18: SimSiam loss -0.9894\n"
     ]
    },
    {
     "name": "stderr",
     "output_type": "stream",
     "text": [
      "[SSL] SimSiam 19/30: 100%|██████████| 426/426 [05:38<00:00,  1.26it/s, loss=-0.991]\n"
     ]
    },
    {
     "name": "stdout",
     "output_type": "stream",
     "text": [
      "Epoch 19: SimSiam loss -0.9906\n"
     ]
    },
    {
     "name": "stderr",
     "output_type": "stream",
     "text": [
      "[SSL] SimSiam 20/30: 100%|██████████| 426/426 [05:39<00:00,  1.26it/s, loss=-0.992]\n"
     ]
    },
    {
     "name": "stdout",
     "output_type": "stream",
     "text": [
      "Epoch 20: SimSiam loss -0.9916\n"
     ]
    },
    {
     "name": "stderr",
     "output_type": "stream",
     "text": [
      "[SSL] SimSiam 21/30: 100%|██████████| 426/426 [05:27<00:00,  1.30it/s, loss=-0.989]"
     ]
    },
    {
     "name": "stdout",
     "output_type": "stream",
     "text": [
      "Epoch 21: SimSiam loss -0.9888\n",
      "  ⏹ SSL early stopping.\n",
      "[SSL] Best epoch=16, best loss=-0.9921, saved: D:/acouslic-ai-cse4622/saved_weights\\simsiam_encoder_best_optionA.pth\n"
     ]
    },
    {
     "name": "stderr",
     "output_type": "stream",
     "text": [
      "\n"
     ]
    }
   ],
   "source": [
    "# =========================\n",
    "# 6) Build CV pool (Option A) + SSL pretrain once\n",
    "# =========================\n",
    "def list_cv_pool_and_test(train_dir, val_dir, dev_slice=(210,255), test_slice=(255,300)):\n",
    "    # 210 tiny train\n",
    "    tiny_files = sorted([f for f in os.listdir(train_dir) if f.endswith(\".npz\")])[:210]\n",
    "    # 45 compact dev\n",
    "    dev_files  = sorted([f for f in os.listdir(val_dir)   if f.endswith(\".npz\")])[dev_slice[0]:dev_slice[1]]\n",
    "    # 45 compact test (held out)\n",
    "    test_files = sorted([f for f in os.listdir(val_dir)   if f.endswith(\".npz\")])[test_slice[0]:test_slice[1]]\n",
    "\n",
    "    # CV pool records with has_pos label\n",
    "    pool = []\n",
    "    for f in tiny_files:\n",
    "        y = np.load(os.path.join(train_dir, f), mmap_mode=\"r\")[\"label\"].astype(np.int64)\n",
    "        has_pos = np.any((y == 1) | (y == 2))\n",
    "        pool.append({\"dir\": train_dir, \"file\": f, \"has_pos\": int(has_pos)})\n",
    "\n",
    "    for f in dev_files:\n",
    "        y = np.load(os.path.join(val_dir, f), mmap_mode=\"r\")[\"label\"].astype(np.int64)\n",
    "        has_pos = np.any((y == 1) | (y == 2))\n",
    "        pool.append({\"dir\": val_dir, \"file\": f, \"has_pos\": int(has_pos)})\n",
    "\n",
    "    test_paths = [os.path.join(val_dir, f) for f in test_files]\n",
    "    return pool, test_paths\n",
    "\n",
    "CV_POOL, TEST_PATHS = list_cv_pool_and_test(TRAIN_DIR, VAL_DIR, DEV45_SLICE, TEST45_SLICE)\n",
    "print(f\"[CV POOL] {len(CV_POOL)} patients (210 tiny + 45 compact)\")\n",
    "print(f\"[TEST]   {len(TEST_PATHS)} patients (held-out)\")\n",
    "\n",
    "# ---- SSL pretrain once on entire CV pool unlabeled ----\n",
    "# Build unlabeled base by concatenating two Preloaded datasets (one per dir subset)\n",
    "tiny_files_for_ssl   = [r[\"file\"] for r in CV_POOL if r[\"dir\"] == TRAIN_DIR]\n",
    "dev45_files_for_ssl  = [r[\"file\"] for r in CV_POOL if r[\"dir\"] == VAL_DIR]\n",
    "\n",
    "ssl_base_tiny = PreloadedNPZFrameDataset(TRAIN_DIR, tiny_files_for_ssl, binary=True, out_size=IMAGE_SIZE)\n",
    "ssl_base_dev  = PreloadedNPZFrameDataset(VAL_DIR,   dev45_files_for_ssl, binary=True, out_size=IMAGE_SIZE)\n",
    "ssl_base_all  = ConcatDataset([ssl_base_tiny, ssl_base_dev])\n",
    "ssl_ds        = SSLPairDataset(ssl_base_all, transform=ssl_transform)\n",
    "\n",
    "SSL_BATCH  = 128\n",
    "SSL_EPOCHS = 30               # reduce if needed\n",
    "LR_BASE    = 0.05\n",
    "SSL_PATIENCE = 5\n",
    "MIN_DELTA    = 1e-4\n",
    "\n",
    "ssl_loader = DataLoader(ssl_ds, batch_size=SSL_BATCH, shuffle=True,\n",
    "                        num_workers=0, pin_memory=True, drop_last=True)  # Windows-safe\n",
    "\n",
    "simsiam = SimSiamResNet(start_from_imagenet=True).to(device)\n",
    "opt_ssl = torch.optim.SGD(simsiam.parameters(), lr=LR_BASE, momentum=0.9, weight_decay=WEIGHT_DEC)\n",
    "sched_ssl = torch.optim.lr_scheduler.CosineAnnealingLR(opt_ssl, T_max=SSL_EPOCHS)\n",
    "scaler_ssl = amp.GradScaler(enabled=(device==\"cuda\"))\n",
    "\n",
    "best_loss = float(\"inf\"); bad = 0; best_epoch_ssl = 0\n",
    "ENC_BEST = os.path.join(SAVE_DIR, \"simsiam_encoder_best_optionA.pth\")\n",
    "\n",
    "for epoch in range(1, SSL_EPOCHS+1):\n",
    "    simsiam.train()\n",
    "    running = 0.0; nseen = 0\n",
    "    pbar = tqdm(ssl_loader, desc=f\"[SSL] SimSiam {epoch}/{SSL_EPOCHS}\")\n",
    "    for v1, v2 in pbar:\n",
    "        v1 = v1.to(device, non_blocking=True).float()\n",
    "        v2 = v2.to(device, non_blocking=True).float()\n",
    "        opt_ssl.zero_grad(set_to_none=True)\n",
    "        with amp.autocast(device_type=\"cuda\", enabled=(device==\"cuda\")):\n",
    "            p1, z2, p2, z1 = simsiam(v1, v2)\n",
    "            loss = 0.5*neg_cos_sim(p1,z2) + 0.5*neg_cos_sim(p2,z1)\n",
    "        scaler_ssl.scale(loss).backward()\n",
    "        scaler_ssl.step(opt_ssl)\n",
    "        scaler_ssl.update()\n",
    "        running += loss.item() * v1.size(0); nseen += v1.size(0)\n",
    "        pbar.set_postfix(loss=running/max(1,nseen))\n",
    "    sched_ssl.step()\n",
    "    avg = running/max(1,nseen)\n",
    "    print(f\"Epoch {epoch}: SimSiam loss {avg:.4f}\")\n",
    "    if (best_loss - avg) > MIN_DELTA:\n",
    "        best_loss = avg; bad = 0; best_epoch_ssl = epoch\n",
    "        torch.save(simsiam.encoder.state_dict(), ENC_BEST)\n",
    "        print(f\"  ✅ Saved best encoder @ epoch {epoch} (loss {best_loss:.4f})\")\n",
    "    else:\n",
    "        bad += 1\n",
    "        if bad >= SSL_PATIENCE:\n",
    "            print(\"  ⏹ SSL early stopping.\")\n",
    "            break\n",
    "\n",
    "print(f\"[SSL] Best epoch={best_epoch_ssl}, best loss={best_loss:.4f}, saved: {ENC_BEST}\")\n"
   ]
  },
  {
   "cell_type": "code",
   "execution_count": 8,
   "id": "ce2b6940",
   "metadata": {},
   "outputs": [
    {
     "name": "stdout",
     "output_type": "stream",
     "text": [
      "[FOLDS] Built 5 folds from 255 patients.\n"
     ]
    }
   ],
   "source": [
    "# =========================\n",
    "# 7) Build folds (Option A: 255 patients)\n",
    "# =========================\n",
    "def build_optionA_folds(cv_pool, k=5, seed=42):\n",
    "    y = np.array([rec[\"has_pos\"] for rec in cv_pool], dtype=np.int64)\n",
    "    idxs = np.arange(len(cv_pool))\n",
    "    skf = StratifiedKFold(n_splits=k, shuffle=True, random_state=seed)\n",
    "\n",
    "    folds = []\n",
    "    for fold_id, (tr_idx, va_idx) in enumerate(skf.split(idxs, y), 1):\n",
    "        tr = [cv_pool[i] for i in tr_idx]\n",
    "        va = [cv_pool[i] for i in va_idx]\n",
    "\n",
    "        # Separate by directory (so we can create datasets per dir then concat)\n",
    "        tr_tiny   = [r[\"file\"] for r in tr if r[\"dir\"] == TRAIN_DIR]\n",
    "        tr_dev45  = [r[\"file\"] for r in tr if r[\"dir\"] == VAL_DIR]\n",
    "        va_tiny   = [r[\"file\"] for r in va if r[\"dir\"] == TRAIN_DIR]\n",
    "        va_dev45  = [r[\"file\"] for r in va if r[\"dir\"] == VAL_DIR]\n",
    "\n",
    "        folds.append((tr_tiny, tr_dev45, va_tiny, va_dev45))\n",
    "    return folds\n",
    "\n",
    "folds = build_optionA_folds(CV_POOL, k=K_FOLDS, seed=SEED)\n",
    "print(f\"[FOLDS] Built {len(folds)} folds from 255 patients.\")\n"
   ]
  },
  {
   "cell_type": "code",
   "execution_count": 9,
   "id": "5b533366",
   "metadata": {},
   "outputs": [
    {
     "name": "stdout",
     "output_type": "stream",
     "text": [
      "\n",
      "========== Fold 1 ==========\n",
      "Loaded SimSiam encoder. missing: ['fc.weight', 'fc.bias'] unexpected: []\n"
     ]
    },
    {
     "name": "stderr",
     "output_type": "stream",
     "text": [
      "[Fold 1] Train 1/20: 100%|██████████| 326/326 [00:24<00:00, 13.47it/s, loss=0.545]\n"
     ]
    },
    {
     "name": "stdout",
     "output_type": "stream",
     "text": [
      "  -> train loss 0.5453 | val acc 76.19% | P/R/F1 0.315/0.532/0.396 | thr* 0.69\n",
      "  ✅ Saved best (F1=0.396 @ thr=0.69)\n"
     ]
    },
    {
     "name": "stderr",
     "output_type": "stream",
     "text": [
      "[Fold 1] Train 2/20: 100%|██████████| 326/326 [00:40<00:00,  7.99it/s, loss=0.424]\n"
     ]
    },
    {
     "name": "stdout",
     "output_type": "stream",
     "text": [
      "  -> train loss 0.4238 | val acc 88.07% | P/R/F1 0.574/0.717/0.638 | thr* 0.87\n",
      "  ✅ Saved best (F1=0.638 @ thr=0.87)\n"
     ]
    },
    {
     "name": "stderr",
     "output_type": "stream",
     "text": [
      "[Fold 1] Train 3/20: 100%|██████████| 326/326 [00:37<00:00,  8.73it/s, loss=0.327]\n"
     ]
    },
    {
     "name": "stdout",
     "output_type": "stream",
     "text": [
      "  -> train loss 0.3273 | val acc 90.47% | P/R/F1 0.639/0.803/0.712 | thr* 0.77\n",
      "  ✅ Saved best (F1=0.712 @ thr=0.77)\n"
     ]
    },
    {
     "name": "stderr",
     "output_type": "stream",
     "text": [
      "[Fold 1] Train 4/20: 100%|██████████| 326/326 [00:36<00:00,  8.83it/s, loss=0.277]\n"
     ]
    },
    {
     "name": "stdout",
     "output_type": "stream",
     "text": [
      "  -> train loss 0.2775 | val acc 93.03% | P/R/F1 0.727/0.840/0.779 | thr* 0.66\n",
      "  ✅ Saved best (F1=0.779 @ thr=0.66)\n"
     ]
    },
    {
     "name": "stderr",
     "output_type": "stream",
     "text": [
      "[Fold 1] Train 5/20: 100%|██████████| 326/326 [00:36<00:00,  8.81it/s, loss=0.247]\n"
     ]
    },
    {
     "name": "stdout",
     "output_type": "stream",
     "text": [
      "  -> train loss 0.2473 | val acc 93.54% | P/R/F1 0.765/0.808/0.786 | thr* 0.74\n",
      "  ✅ Saved best (F1=0.786 @ thr=0.74)\n"
     ]
    },
    {
     "name": "stderr",
     "output_type": "stream",
     "text": [
      "[Fold 1] Train 6/20: 100%|██████████| 326/326 [00:36<00:00,  8.85it/s, loss=0.233]\n"
     ]
    },
    {
     "name": "stdout",
     "output_type": "stream",
     "text": [
      "  -> train loss 0.2333 | val acc 94.21% | P/R/F1 0.796/0.813/0.805 | thr* 0.84\n",
      "  ✅ Saved best (F1=0.805 @ thr=0.84)\n"
     ]
    },
    {
     "name": "stderr",
     "output_type": "stream",
     "text": [
      "[Fold 1] Train 7/20: 100%|██████████| 326/326 [00:37<00:00,  8.78it/s, loss=0.228]\n"
     ]
    },
    {
     "name": "stdout",
     "output_type": "stream",
     "text": [
      "  -> train loss 0.2277 | val acc 94.43% | P/R/F1 0.785/0.854/0.818 | thr* 0.82\n",
      "  ✅ Saved best (F1=0.818 @ thr=0.82)\n"
     ]
    },
    {
     "name": "stderr",
     "output_type": "stream",
     "text": [
      "[Fold 1] Train 8/20: 100%|██████████| 326/326 [00:37<00:00,  8.75it/s, loss=0.222]\n"
     ]
    },
    {
     "name": "stdout",
     "output_type": "stream",
     "text": [
      "  -> train loss 0.2216 | val acc 93.72% | P/R/F1 0.745/0.868/0.802 | thr* 0.39\n"
     ]
    },
    {
     "name": "stderr",
     "output_type": "stream",
     "text": [
      "[Fold 1] Train 9/20: 100%|██████████| 326/326 [00:36<00:00,  8.82it/s, loss=0.206]\n"
     ]
    },
    {
     "name": "stdout",
     "output_type": "stream",
     "text": [
      "  -> train loss 0.2063 | val acc 94.00% | P/R/F1 0.769/0.845/0.805 | thr* 0.80\n"
     ]
    },
    {
     "name": "stderr",
     "output_type": "stream",
     "text": [
      "[Fold 1] Train 10/20: 100%|██████████| 326/326 [00:36<00:00,  8.85it/s, loss=0.203]\n"
     ]
    },
    {
     "name": "stdout",
     "output_type": "stream",
     "text": [
      "  -> train loss 0.2029 | val acc 94.16% | P/R/F1 0.782/0.834/0.807 | thr* 0.76\n"
     ]
    },
    {
     "name": "stderr",
     "output_type": "stream",
     "text": [
      "[Fold 1] Train 11/20: 100%|██████████| 326/326 [00:36<00:00,  8.84it/s, loss=0.204]\n"
     ]
    },
    {
     "name": "stdout",
     "output_type": "stream",
     "text": [
      "  -> train loss 0.2041 | val acc 94.78% | P/R/F1 0.801/0.857/0.828 | thr* 0.77\n",
      "  ✅ Saved best (F1=0.828 @ thr=0.77)\n"
     ]
    },
    {
     "name": "stderr",
     "output_type": "stream",
     "text": [
      "[Fold 1] Train 12/20: 100%|██████████| 326/326 [00:37<00:00,  8.79it/s, loss=0.198]\n"
     ]
    },
    {
     "name": "stdout",
     "output_type": "stream",
     "text": [
      "  -> train loss 0.1975 | val acc 93.87% | P/R/F1 0.759/0.852/0.803 | thr* 0.38\n"
     ]
    },
    {
     "name": "stderr",
     "output_type": "stream",
     "text": [
      "[Fold 1] Train 13/20: 100%|██████████| 326/326 [00:37<00:00,  8.80it/s, loss=0.194]\n"
     ]
    },
    {
     "name": "stdout",
     "output_type": "stream",
     "text": [
      "  -> train loss 0.1938 | val acc 94.80% | P/R/F1 0.808/0.846/0.827 | thr* 0.50\n"
     ]
    },
    {
     "name": "stderr",
     "output_type": "stream",
     "text": [
      "[Fold 1] Train 14/20: 100%|██████████| 326/326 [00:37<00:00,  8.80it/s, loss=0.195]\n"
     ]
    },
    {
     "name": "stdout",
     "output_type": "stream",
     "text": [
      "  -> train loss 0.1947 | val acc 94.71% | P/R/F1 0.804/0.845/0.824 | thr* 0.69\n"
     ]
    },
    {
     "name": "stderr",
     "output_type": "stream",
     "text": [
      "[Fold 1] Train 15/20: 100%|██████████| 326/326 [00:37<00:00,  8.81it/s, loss=0.185]\n"
     ]
    },
    {
     "name": "stdout",
     "output_type": "stream",
     "text": [
      "  -> train loss 0.1854 | val acc 93.87% | P/R/F1 0.745/0.884/0.809 | thr* 0.45\n"
     ]
    },
    {
     "name": "stderr",
     "output_type": "stream",
     "text": [
      "[Fold 1] Train 16/20: 100%|██████████| 326/326 [00:37<00:00,  8.81it/s, loss=0.182]\n"
     ]
    },
    {
     "name": "stdout",
     "output_type": "stream",
     "text": [
      "  -> train loss 0.1820 | val acc 94.29% | P/R/F1 0.796/0.821/0.808 | thr* 0.85\n",
      "  ⏹ Early stopping.\n",
      "\n",
      "========== Fold 2 ==========\n",
      "Loaded SimSiam encoder. missing: ['fc.weight', 'fc.bias'] unexpected: []\n"
     ]
    },
    {
     "name": "stderr",
     "output_type": "stream",
     "text": [
      "[Fold 2] Train 1/20: 100%|██████████| 317/317 [00:23<00:00, 13.76it/s, loss=0.554]\n"
     ]
    },
    {
     "name": "stdout",
     "output_type": "stream",
     "text": [
      "  -> train loss 0.5543 | val acc 82.23% | P/R/F1 0.381/0.602/0.466 | thr* 0.63\n",
      "  ✅ Saved best (F1=0.466 @ thr=0.63)\n"
     ]
    },
    {
     "name": "stderr",
     "output_type": "stream",
     "text": [
      "[Fold 2] Train 2/20: 100%|██████████| 317/317 [00:36<00:00,  8.79it/s, loss=0.436]\n"
     ]
    },
    {
     "name": "stdout",
     "output_type": "stream",
     "text": [
      "  -> train loss 0.4357 | val acc 88.23% | P/R/F1 0.531/0.749/0.622 | thr* 0.40\n",
      "  ✅ Saved best (F1=0.622 @ thr=0.40)\n"
     ]
    },
    {
     "name": "stderr",
     "output_type": "stream",
     "text": [
      "[Fold 2] Train 3/20: 100%|██████████| 317/317 [00:36<00:00,  8.80it/s, loss=0.325]\n"
     ]
    },
    {
     "name": "stdout",
     "output_type": "stream",
     "text": [
      "  -> train loss 0.3250 | val acc 94.05% | P/R/F1 0.751/0.806/0.778 | thr* 0.70\n",
      "  ✅ Saved best (F1=0.778 @ thr=0.70)\n"
     ]
    },
    {
     "name": "stderr",
     "output_type": "stream",
     "text": [
      "[Fold 2] Train 4/20: 100%|██████████| 317/317 [00:35<00:00,  8.81it/s, loss=0.279]\n"
     ]
    },
    {
     "name": "stdout",
     "output_type": "stream",
     "text": [
      "  -> train loss 0.2795 | val acc 92.99% | P/R/F1 0.694/0.818/0.751 | thr* 0.58\n"
     ]
    },
    {
     "name": "stderr",
     "output_type": "stream",
     "text": [
      "[Fold 2] Train 5/20: 100%|██████████| 317/317 [00:36<00:00,  8.79it/s, loss=0.254]\n"
     ]
    },
    {
     "name": "stdout",
     "output_type": "stream",
     "text": [
      "  -> train loss 0.2544 | val acc 94.71% | P/R/F1 0.751/0.882/0.811 | thr* 0.59\n",
      "  ✅ Saved best (F1=0.811 @ thr=0.59)\n"
     ]
    },
    {
     "name": "stderr",
     "output_type": "stream",
     "text": [
      "[Fold 2] Train 6/20: 100%|██████████| 317/317 [00:38<00:00,  8.28it/s, loss=0.241]\n"
     ]
    },
    {
     "name": "stdout",
     "output_type": "stream",
     "text": [
      "  -> train loss 0.2409 | val acc 95.64% | P/R/F1 0.811/0.863/0.836 | thr* 0.84\n",
      "  ✅ Saved best (F1=0.836 @ thr=0.84)\n"
     ]
    },
    {
     "name": "stderr",
     "output_type": "stream",
     "text": [
      "[Fold 2] Train 7/20: 100%|██████████| 317/317 [00:37<00:00,  8.46it/s, loss=0.229]\n"
     ]
    },
    {
     "name": "stdout",
     "output_type": "stream",
     "text": [
      "  -> train loss 0.2286 | val acc 95.72% | P/R/F1 0.808/0.877/0.841 | thr* 0.70\n",
      "  ✅ Saved best (F1=0.841 @ thr=0.70)\n"
     ]
    },
    {
     "name": "stderr",
     "output_type": "stream",
     "text": [
      "[Fold 2] Train 8/20: 100%|██████████| 317/317 [00:37<00:00,  8.52it/s, loss=0.224]\n"
     ]
    },
    {
     "name": "stdout",
     "output_type": "stream",
     "text": [
      "  -> train loss 0.2242 | val acc 96.25% | P/R/F1 0.844/0.871/0.857 | thr* 0.82\n",
      "  ✅ Saved best (F1=0.857 @ thr=0.82)\n"
     ]
    },
    {
     "name": "stderr",
     "output_type": "stream",
     "text": [
      "[Fold 2] Train 9/20: 100%|██████████| 317/317 [00:36<00:00,  8.57it/s, loss=0.207]\n"
     ]
    },
    {
     "name": "stdout",
     "output_type": "stream",
     "text": [
      "  -> train loss 0.2073 | val acc 95.60% | P/R/F1 0.791/0.895/0.840 | thr* 0.63\n"
     ]
    },
    {
     "name": "stderr",
     "output_type": "stream",
     "text": [
      "[Fold 2] Train 10/20: 100%|██████████| 317/317 [00:37<00:00,  8.55it/s, loss=0.204]\n"
     ]
    },
    {
     "name": "stdout",
     "output_type": "stream",
     "text": [
      "  -> train loss 0.2043 | val acc 95.54% | P/R/F1 0.809/0.857/0.832 | thr* 0.62\n"
     ]
    },
    {
     "name": "stderr",
     "output_type": "stream",
     "text": [
      "[Fold 2] Train 11/20: 100%|██████████| 317/317 [00:37<00:00,  8.51it/s, loss=0.195]\n"
     ]
    },
    {
     "name": "stdout",
     "output_type": "stream",
     "text": [
      "  -> train loss 0.1954 | val acc 96.23% | P/R/F1 0.850/0.859/0.855 | thr* 0.58\n"
     ]
    },
    {
     "name": "stderr",
     "output_type": "stream",
     "text": [
      "[Fold 2] Train 12/20: 100%|██████████| 317/317 [00:36<00:00,  8.69it/s, loss=0.192]\n"
     ]
    },
    {
     "name": "stdout",
     "output_type": "stream",
     "text": [
      "  -> train loss 0.1925 | val acc 95.55% | P/R/F1 0.804/0.867/0.834 | thr* 0.58\n"
     ]
    },
    {
     "name": "stderr",
     "output_type": "stream",
     "text": [
      "[Fold 2] Train 13/20: 100%|██████████| 317/317 [00:35<00:00,  8.82it/s, loss=0.199]\n"
     ]
    },
    {
     "name": "stdout",
     "output_type": "stream",
     "text": [
      "  -> train loss 0.1991 | val acc 96.36% | P/R/F1 0.856/0.864/0.860 | thr* 0.60\n",
      "  ✅ Saved best (F1=0.860 @ thr=0.60)\n"
     ]
    },
    {
     "name": "stderr",
     "output_type": "stream",
     "text": [
      "[Fold 2] Train 14/20: 100%|██████████| 317/317 [00:35<00:00,  8.84it/s, loss=0.193]\n"
     ]
    },
    {
     "name": "stdout",
     "output_type": "stream",
     "text": [
      "  -> train loss 0.1933 | val acc 96.00% | P/R/F1 0.836/0.858/0.847 | thr* 0.70\n"
     ]
    },
    {
     "name": "stderr",
     "output_type": "stream",
     "text": [
      "[Fold 2] Train 15/20: 100%|██████████| 317/317 [00:35<00:00,  8.82it/s, loss=0.184]\n"
     ]
    },
    {
     "name": "stdout",
     "output_type": "stream",
     "text": [
      "  -> train loss 0.1840 | val acc 95.74% | P/R/F1 0.804/0.886/0.843 | thr* 0.73\n"
     ]
    },
    {
     "name": "stderr",
     "output_type": "stream",
     "text": [
      "[Fold 2] Train 16/20: 100%|██████████| 317/317 [00:35<00:00,  8.85it/s, loss=0.183]\n"
     ]
    },
    {
     "name": "stdout",
     "output_type": "stream",
     "text": [
      "  -> train loss 0.1826 | val acc 95.73% | P/R/F1 0.803/0.886/0.843 | thr* 0.55\n"
     ]
    },
    {
     "name": "stderr",
     "output_type": "stream",
     "text": [
      "[Fold 2] Train 17/20: 100%|██████████| 317/317 [00:35<00:00,  8.87it/s, loss=0.183]\n"
     ]
    },
    {
     "name": "stdout",
     "output_type": "stream",
     "text": [
      "  -> train loss 0.1828 | val acc 94.86% | P/R/F1 0.770/0.857/0.812 | thr* 0.79\n"
     ]
    },
    {
     "name": "stderr",
     "output_type": "stream",
     "text": [
      "[Fold 2] Train 18/20: 100%|██████████| 317/317 [00:35<00:00,  8.85it/s, loss=0.182]\n"
     ]
    },
    {
     "name": "stdout",
     "output_type": "stream",
     "text": [
      "  -> train loss 0.1815 | val acc 95.09% | P/R/F1 0.760/0.906/0.826 | thr* 0.36\n",
      "  ⏹ Early stopping.\n",
      "\n",
      "========== Fold 3 ==========\n",
      "Loaded SimSiam encoder. missing: ['fc.weight', 'fc.bias'] unexpected: []\n"
     ]
    },
    {
     "name": "stderr",
     "output_type": "stream",
     "text": [
      "[Fold 3] Train 1/20: 100%|██████████| 327/327 [00:26<00:00, 12.44it/s, loss=0.557]\n"
     ]
    },
    {
     "name": "stdout",
     "output_type": "stream",
     "text": [
      "  -> train loss 0.5575 | val acc 85.21% | P/R/F1 0.404/0.627/0.491 | thr* 0.66\n",
      "  ✅ Saved best (F1=0.491 @ thr=0.66)\n"
     ]
    },
    {
     "name": "stderr",
     "output_type": "stream",
     "text": [
      "[Fold 3] Train 2/20: 100%|██████████| 327/327 [00:38<00:00,  8.49it/s, loss=0.428]\n"
     ]
    },
    {
     "name": "stdout",
     "output_type": "stream",
     "text": [
      "  -> train loss 0.4285 | val acc 91.68% | P/R/F1 0.620/0.699/0.657 | thr* 0.80\n",
      "  ✅ Saved best (F1=0.657 @ thr=0.80)\n"
     ]
    },
    {
     "name": "stderr",
     "output_type": "stream",
     "text": [
      "[Fold 3] Train 3/20: 100%|██████████| 327/327 [00:38<00:00,  8.60it/s, loss=0.326]\n"
     ]
    },
    {
     "name": "stdout",
     "output_type": "stream",
     "text": [
      "  -> train loss 0.3265 | val acc 93.99% | P/R/F1 0.719/0.778/0.747 | thr* 0.69\n",
      "  ✅ Saved best (F1=0.747 @ thr=0.69)\n"
     ]
    },
    {
     "name": "stderr",
     "output_type": "stream",
     "text": [
      "[Fold 3] Train 4/20: 100%|██████████| 327/327 [00:38<00:00,  8.54it/s, loss=0.284]\n"
     ]
    },
    {
     "name": "stdout",
     "output_type": "stream",
     "text": [
      "  -> train loss 0.2841 | val acc 94.52% | P/R/F1 0.753/0.773/0.763 | thr* 0.70\n",
      "  ✅ Saved best (F1=0.763 @ thr=0.70)\n"
     ]
    },
    {
     "name": "stderr",
     "output_type": "stream",
     "text": [
      "[Fold 3] Train 5/20: 100%|██████████| 327/327 [00:39<00:00,  8.32it/s, loss=0.261]\n"
     ]
    },
    {
     "name": "stdout",
     "output_type": "stream",
     "text": [
      "  -> train loss 0.2608 | val acc 94.60% | P/R/F1 0.733/0.827/0.777 | thr* 0.40\n",
      "  ✅ Saved best (F1=0.777 @ thr=0.40)\n"
     ]
    },
    {
     "name": "stderr",
     "output_type": "stream",
     "text": [
      "[Fold 3] Train 6/20: 100%|██████████| 327/327 [00:39<00:00,  8.35it/s, loss=0.245]\n"
     ]
    },
    {
     "name": "stdout",
     "output_type": "stream",
     "text": [
      "  -> train loss 0.2451 | val acc 94.71% | P/R/F1 0.732/0.844/0.784 | thr* 0.65\n",
      "  ✅ Saved best (F1=0.784 @ thr=0.65)\n"
     ]
    },
    {
     "name": "stderr",
     "output_type": "stream",
     "text": [
      "[Fold 3] Train 7/20: 100%|██████████| 327/327 [00:39<00:00,  8.38it/s, loss=0.224]\n"
     ]
    },
    {
     "name": "stdout",
     "output_type": "stream",
     "text": [
      "  -> train loss 0.2236 | val acc 95.32% | P/R/F1 0.744/0.899/0.814 | thr* 0.77\n",
      "  ✅ Saved best (F1=0.814 @ thr=0.77)\n"
     ]
    },
    {
     "name": "stderr",
     "output_type": "stream",
     "text": [
      "[Fold 3] Train 8/20: 100%|██████████| 327/327 [00:38<00:00,  8.48it/s, loss=0.225]\n"
     ]
    },
    {
     "name": "stdout",
     "output_type": "stream",
     "text": [
      "  -> train loss 0.2247 | val acc 95.12% | P/R/F1 0.761/0.835/0.796 | thr* 0.70\n"
     ]
    },
    {
     "name": "stderr",
     "output_type": "stream",
     "text": [
      "[Fold 3] Train 9/20: 100%|██████████| 327/327 [00:39<00:00,  8.32it/s, loss=0.212]\n"
     ]
    },
    {
     "name": "stdout",
     "output_type": "stream",
     "text": [
      "  -> train loss 0.2115 | val acc 95.72% | P/R/F1 0.797/0.838/0.817 | thr* 0.83\n",
      "  ✅ Saved best (F1=0.817 @ thr=0.83)\n"
     ]
    },
    {
     "name": "stderr",
     "output_type": "stream",
     "text": [
      "[Fold 3] Train 10/20: 100%|██████████| 327/327 [00:38<00:00,  8.48it/s, loss=0.211]\n"
     ]
    },
    {
     "name": "stdout",
     "output_type": "stream",
     "text": [
      "  -> train loss 0.2115 | val acc 95.97% | P/R/F1 0.806/0.852/0.828 | thr* 0.74\n",
      "  ✅ Saved best (F1=0.828 @ thr=0.74)\n"
     ]
    },
    {
     "name": "stderr",
     "output_type": "stream",
     "text": [
      "[Fold 3] Train 11/20: 100%|██████████| 327/327 [00:38<00:00,  8.51it/s, loss=0.199]\n"
     ]
    },
    {
     "name": "stdout",
     "output_type": "stream",
     "text": [
      "  -> train loss 0.1992 | val acc 95.71% | P/R/F1 0.754/0.927/0.831 | thr* 0.67\n",
      "  ✅ Saved best (F1=0.831 @ thr=0.67)\n"
     ]
    },
    {
     "name": "stderr",
     "output_type": "stream",
     "text": [
      "[Fold 3] Train 12/20: 100%|██████████| 327/327 [00:38<00:00,  8.52it/s, loss=0.198]\n"
     ]
    },
    {
     "name": "stdout",
     "output_type": "stream",
     "text": [
      "  -> train loss 0.1982 | val acc 95.88% | P/R/F1 0.782/0.886/0.831 | thr* 0.70\n"
     ]
    },
    {
     "name": "stderr",
     "output_type": "stream",
     "text": [
      "[Fold 3] Train 13/20: 100%|██████████| 327/327 [00:37<00:00,  8.64it/s, loss=0.202]\n"
     ]
    },
    {
     "name": "stdout",
     "output_type": "stream",
     "text": [
      "  -> train loss 0.2025 | val acc 96.31% | P/R/F1 0.806/0.892/0.846 | thr* 0.45\n",
      "  ✅ Saved best (F1=0.846 @ thr=0.45)\n"
     ]
    },
    {
     "name": "stderr",
     "output_type": "stream",
     "text": [
      "[Fold 3] Train 14/20: 100%|██████████| 327/327 [00:38<00:00,  8.52it/s, loss=0.195]\n"
     ]
    },
    {
     "name": "stdout",
     "output_type": "stream",
     "text": [
      "  -> train loss 0.1948 | val acc 96.37% | P/R/F1 0.815/0.882/0.847 | thr* 0.48\n",
      "  ✅ Saved best (F1=0.847 @ thr=0.48)\n"
     ]
    },
    {
     "name": "stderr",
     "output_type": "stream",
     "text": [
      "[Fold 3] Train 15/20: 100%|██████████| 327/327 [00:38<00:00,  8.54it/s, loss=0.191]\n"
     ]
    },
    {
     "name": "stdout",
     "output_type": "stream",
     "text": [
      "  -> train loss 0.1907 | val acc 96.01% | P/R/F1 0.816/0.839/0.827 | thr* 0.55\n"
     ]
    },
    {
     "name": "stderr",
     "output_type": "stream",
     "text": [
      "[Fold 3] Train 16/20: 100%|██████████| 327/327 [00:36<00:00,  8.91it/s, loss=0.194]\n"
     ]
    },
    {
     "name": "stdout",
     "output_type": "stream",
     "text": [
      "  -> train loss 0.1938 | val acc 96.81% | P/R/F1 0.843/0.886/0.864 | thr* 0.87\n",
      "  ✅ Saved best (F1=0.864 @ thr=0.87)\n"
     ]
    },
    {
     "name": "stderr",
     "output_type": "stream",
     "text": [
      "[Fold 3] Train 17/20: 100%|██████████| 327/327 [00:37<00:00,  8.69it/s, loss=0.187]\n"
     ]
    },
    {
     "name": "stdout",
     "output_type": "stream",
     "text": [
      "  -> train loss 0.1873 | val acc 96.25% | P/R/F1 0.813/0.871/0.841 | thr* 0.62\n"
     ]
    },
    {
     "name": "stderr",
     "output_type": "stream",
     "text": [
      "[Fold 3] Train 18/20: 100%|██████████| 327/327 [00:36<00:00,  8.88it/s, loss=0.184]\n"
     ]
    },
    {
     "name": "stdout",
     "output_type": "stream",
     "text": [
      "  -> train loss 0.1840 | val acc 95.83% | P/R/F1 0.783/0.878/0.828 | thr* 0.84\n"
     ]
    },
    {
     "name": "stderr",
     "output_type": "stream",
     "text": [
      "[Fold 3] Train 19/20: 100%|██████████| 327/327 [00:36<00:00,  8.86it/s, loss=0.18] \n"
     ]
    },
    {
     "name": "stdout",
     "output_type": "stream",
     "text": [
      "  -> train loss 0.1801 | val acc 96.59% | P/R/F1 0.832/0.879/0.855 | thr* 0.75\n"
     ]
    },
    {
     "name": "stderr",
     "output_type": "stream",
     "text": [
      "[Fold 3] Train 20/20: 100%|██████████| 327/327 [00:37<00:00,  8.81it/s, loss=0.178]\n"
     ]
    },
    {
     "name": "stdout",
     "output_type": "stream",
     "text": [
      "  -> train loss 0.1782 | val acc 96.44% | P/R/F1 0.829/0.867/0.847 | thr* 0.58\n",
      "\n",
      "========== Fold 4 ==========\n",
      "Loaded SimSiam encoder. missing: ['fc.weight', 'fc.bias'] unexpected: []\n"
     ]
    },
    {
     "name": "stderr",
     "output_type": "stream",
     "text": [
      "[Fold 4] Train 1/20: 100%|██████████| 328/328 [00:25<00:00, 12.97it/s, loss=0.555]\n"
     ]
    },
    {
     "name": "stdout",
     "output_type": "stream",
     "text": [
      "  -> train loss 0.5546 | val acc 82.05% | P/R/F1 0.297/0.598/0.397 | thr* 0.68\n",
      "  ✅ Saved best (F1=0.397 @ thr=0.68)\n"
     ]
    },
    {
     "name": "stderr",
     "output_type": "stream",
     "text": [
      "[Fold 4] Train 2/20: 100%|██████████| 328/328 [00:36<00:00,  8.92it/s, loss=0.441]\n"
     ]
    },
    {
     "name": "stdout",
     "output_type": "stream",
     "text": [
      "  -> train loss 0.4415 | val acc 91.00% | P/R/F1 0.541/0.597/0.567 | thr* 0.83\n",
      "  ✅ Saved best (F1=0.567 @ thr=0.83)\n"
     ]
    },
    {
     "name": "stderr",
     "output_type": "stream",
     "text": [
      "[Fold 4] Train 3/20: 100%|██████████| 328/328 [00:38<00:00,  8.56it/s, loss=0.327]\n"
     ]
    },
    {
     "name": "stdout",
     "output_type": "stream",
     "text": [
      "  -> train loss 0.3274 | val acc 88.96% | P/R/F1 0.466/0.806/0.591 | thr* 0.85\n",
      "  ✅ Saved best (F1=0.591 @ thr=0.85)\n"
     ]
    },
    {
     "name": "stderr",
     "output_type": "stream",
     "text": [
      "[Fold 4] Train 4/20: 100%|██████████| 328/328 [00:39<00:00,  8.40it/s, loss=0.28] \n"
     ]
    },
    {
     "name": "stdout",
     "output_type": "stream",
     "text": [
      "  -> train loss 0.2805 | val acc 93.94% | P/R/F1 0.654/0.820/0.728 | thr* 0.84\n",
      "  ✅ Saved best (F1=0.728 @ thr=0.84)\n"
     ]
    },
    {
     "name": "stderr",
     "output_type": "stream",
     "text": [
      "[Fold 4] Train 5/20: 100%|██████████| 328/328 [00:38<00:00,  8.53it/s, loss=0.253]\n"
     ]
    },
    {
     "name": "stdout",
     "output_type": "stream",
     "text": [
      "  -> train loss 0.2529 | val acc 94.68% | P/R/F1 0.724/0.746/0.735 | thr* 0.64\n",
      "  ✅ Saved best (F1=0.735 @ thr=0.64)\n"
     ]
    },
    {
     "name": "stderr",
     "output_type": "stream",
     "text": [
      "[Fold 4] Train 6/20: 100%|██████████| 328/328 [00:38<00:00,  8.55it/s, loss=0.238]\n"
     ]
    },
    {
     "name": "stdout",
     "output_type": "stream",
     "text": [
      "  -> train loss 0.2383 | val acc 93.63% | P/R/F1 0.643/0.800/0.713 | thr* 0.74\n"
     ]
    },
    {
     "name": "stderr",
     "output_type": "stream",
     "text": [
      "[Fold 4] Train 7/20: 100%|██████████| 328/328 [00:37<00:00,  8.75it/s, loss=0.227]\n"
     ]
    },
    {
     "name": "stdout",
     "output_type": "stream",
     "text": [
      "  -> train loss 0.2273 | val acc 95.05% | P/R/F1 0.750/0.750/0.750 | thr* 0.73\n",
      "  ✅ Saved best (F1=0.750 @ thr=0.73)\n"
     ]
    },
    {
     "name": "stderr",
     "output_type": "stream",
     "text": [
      "[Fold 4] Train 8/20: 100%|██████████| 328/328 [00:37<00:00,  8.72it/s, loss=0.211]\n"
     ]
    },
    {
     "name": "stdout",
     "output_type": "stream",
     "text": [
      "  -> train loss 0.2112 | val acc 95.17% | P/R/F1 0.728/0.817/0.770 | thr* 0.57\n",
      "  ✅ Saved best (F1=0.770 @ thr=0.57)\n"
     ]
    },
    {
     "name": "stderr",
     "output_type": "stream",
     "text": [
      "[Fold 4] Train 9/20: 100%|██████████| 328/328 [00:37<00:00,  8.72it/s, loss=0.21] \n"
     ]
    },
    {
     "name": "stdout",
     "output_type": "stream",
     "text": [
      "  -> train loss 0.2105 | val acc 93.71% | P/R/F1 0.660/0.751/0.703 | thr* 0.43\n"
     ]
    },
    {
     "name": "stderr",
     "output_type": "stream",
     "text": [
      "[Fold 4] Train 10/20: 100%|██████████| 328/328 [00:37<00:00,  8.72it/s, loss=0.204]\n"
     ]
    },
    {
     "name": "stdout",
     "output_type": "stream",
     "text": [
      "  -> train loss 0.2035 | val acc 94.86% | P/R/F1 0.709/0.816/0.759 | thr* 0.81\n"
     ]
    },
    {
     "name": "stderr",
     "output_type": "stream",
     "text": [
      "[Fold 4] Train 11/20: 100%|██████████| 328/328 [00:37<00:00,  8.64it/s, loss=0.195]\n"
     ]
    },
    {
     "name": "stdout",
     "output_type": "stream",
     "text": [
      "  -> train loss 0.1955 | val acc 95.32% | P/R/F1 0.722/0.857/0.784 | thr* 0.73\n",
      "  ✅ Saved best (F1=0.784 @ thr=0.73)\n"
     ]
    },
    {
     "name": "stderr",
     "output_type": "stream",
     "text": [
      "[Fold 4] Train 12/20: 100%|██████████| 328/328 [00:37<00:00,  8.77it/s, loss=0.196]\n"
     ]
    },
    {
     "name": "stdout",
     "output_type": "stream",
     "text": [
      "  -> train loss 0.1958 | val acc 95.11% | P/R/F1 0.716/0.838/0.772 | thr* 0.75\n"
     ]
    },
    {
     "name": "stderr",
     "output_type": "stream",
     "text": [
      "[Fold 4] Train 13/20: 100%|██████████| 328/328 [00:37<00:00,  8.79it/s, loss=0.189]\n"
     ]
    },
    {
     "name": "stdout",
     "output_type": "stream",
     "text": [
      "  -> train loss 0.1889 | val acc 95.88% | P/R/F1 0.766/0.839/0.801 | thr* 0.77\n",
      "  ✅ Saved best (F1=0.801 @ thr=0.77)\n"
     ]
    },
    {
     "name": "stderr",
     "output_type": "stream",
     "text": [
      "[Fold 4] Train 14/20: 100%|██████████| 328/328 [00:37<00:00,  8.73it/s, loss=0.19] \n"
     ]
    },
    {
     "name": "stdout",
     "output_type": "stream",
     "text": [
      "  -> train loss 0.1905 | val acc 94.82% | P/R/F1 0.722/0.772/0.747 | thr* 0.66\n"
     ]
    },
    {
     "name": "stderr",
     "output_type": "stream",
     "text": [
      "[Fold 4] Train 15/20: 100%|██████████| 328/328 [00:36<00:00,  8.89it/s, loss=0.186]\n"
     ]
    },
    {
     "name": "stdout",
     "output_type": "stream",
     "text": [
      "  -> train loss 0.1858 | val acc 95.52% | P/R/F1 0.745/0.832/0.786 | thr* 0.66\n"
     ]
    },
    {
     "name": "stderr",
     "output_type": "stream",
     "text": [
      "[Fold 4] Train 16/20: 100%|██████████| 328/328 [00:37<00:00,  8.86it/s, loss=0.184]\n"
     ]
    },
    {
     "name": "stdout",
     "output_type": "stream",
     "text": [
      "  -> train loss 0.1835 | val acc 94.57% | P/R/F1 0.684/0.838/0.753 | thr* 0.62\n"
     ]
    },
    {
     "name": "stderr",
     "output_type": "stream",
     "text": [
      "[Fold 4] Train 17/20: 100%|██████████| 328/328 [00:38<00:00,  8.53it/s, loss=0.177]\n"
     ]
    },
    {
     "name": "stdout",
     "output_type": "stream",
     "text": [
      "  -> train loss 0.1766 | val acc 94.69% | P/R/F1 0.687/0.850/0.760 | thr* 0.79\n"
     ]
    },
    {
     "name": "stderr",
     "output_type": "stream",
     "text": [
      "[Fold 4] Train 18/20: 100%|██████████| 328/328 [00:37<00:00,  8.69it/s, loss=0.177]\n"
     ]
    },
    {
     "name": "stdout",
     "output_type": "stream",
     "text": [
      "  -> train loss 0.1767 | val acc 95.16% | P/R/F1 0.707/0.872/0.781 | thr* 0.80\n",
      "  ⏹ Early stopping.\n",
      "\n",
      "========== Fold 5 ==========\n",
      "Loaded SimSiam encoder. missing: ['fc.weight', 'fc.bias'] unexpected: []\n"
     ]
    },
    {
     "name": "stderr",
     "output_type": "stream",
     "text": [
      "[Fold 5] Train 1/20: 100%|██████████| 322/322 [00:25<00:00, 12.80it/s, loss=0.55] \n"
     ]
    },
    {
     "name": "stdout",
     "output_type": "stream",
     "text": [
      "  -> train loss 0.5497 | val acc 85.36% | P/R/F1 0.371/0.426/0.397 | thr* 0.62\n",
      "  ✅ Saved best (F1=0.397 @ thr=0.62)\n"
     ]
    },
    {
     "name": "stderr",
     "output_type": "stream",
     "text": [
      "[Fold 5] Train 2/20: 100%|██████████| 322/322 [00:38<00:00,  8.47it/s, loss=0.412]\n"
     ]
    },
    {
     "name": "stdout",
     "output_type": "stream",
     "text": [
      "  -> train loss 0.4119 | val acc 92.42% | P/R/F1 0.649/0.715/0.681 | thr* 0.62\n",
      "  ✅ Saved best (F1=0.681 @ thr=0.62)\n"
     ]
    },
    {
     "name": "stderr",
     "output_type": "stream",
     "text": [
      "[Fold 5] Train 3/20: 100%|██████████| 322/322 [00:37<00:00,  8.64it/s, loss=0.301]\n"
     ]
    },
    {
     "name": "stdout",
     "output_type": "stream",
     "text": [
      "  -> train loss 0.3012 | val acc 94.39% | P/R/F1 0.736/0.784/0.759 | thr* 0.56\n",
      "  ✅ Saved best (F1=0.759 @ thr=0.56)\n"
     ]
    },
    {
     "name": "stderr",
     "output_type": "stream",
     "text": [
      "[Fold 5] Train 4/20: 100%|██████████| 322/322 [00:36<00:00,  8.80it/s, loss=0.262]\n"
     ]
    },
    {
     "name": "stdout",
     "output_type": "stream",
     "text": [
      "  -> train loss 0.2618 | val acc 94.91% | P/R/F1 0.749/0.826/0.785 | thr* 0.74\n",
      "  ✅ Saved best (F1=0.785 @ thr=0.74)\n"
     ]
    },
    {
     "name": "stderr",
     "output_type": "stream",
     "text": [
      "[Fold 5] Train 5/20: 100%|██████████| 322/322 [00:36<00:00,  8.84it/s, loss=0.239]\n"
     ]
    },
    {
     "name": "stdout",
     "output_type": "stream",
     "text": [
      "  -> train loss 0.2391 | val acc 95.26% | P/R/F1 0.796/0.780/0.788 | thr* 0.62\n",
      "  ✅ Saved best (F1=0.788 @ thr=0.62)\n"
     ]
    },
    {
     "name": "stderr",
     "output_type": "stream",
     "text": [
      "[Fold 5] Train 6/20: 100%|██████████| 322/322 [00:36<00:00,  8.74it/s, loss=0.225]\n"
     ]
    },
    {
     "name": "stdout",
     "output_type": "stream",
     "text": [
      "  -> train loss 0.2250 | val acc 95.61% | P/R/F1 0.802/0.812/0.807 | thr* 0.74\n",
      "  ✅ Saved best (F1=0.807 @ thr=0.74)\n"
     ]
    },
    {
     "name": "stderr",
     "output_type": "stream",
     "text": [
      "[Fold 5] Train 7/20: 100%|██████████| 322/322 [00:37<00:00,  8.70it/s, loss=0.22] \n"
     ]
    },
    {
     "name": "stdout",
     "output_type": "stream",
     "text": [
      "  -> train loss 0.2197 | val acc 94.41% | P/R/F1 0.724/0.816/0.767 | thr* 0.63\n"
     ]
    },
    {
     "name": "stderr",
     "output_type": "stream",
     "text": [
      "[Fold 5] Train 8/20: 100%|██████████| 322/322 [00:36<00:00,  8.93it/s, loss=0.213]\n"
     ]
    },
    {
     "name": "stdout",
     "output_type": "stream",
     "text": [
      "  -> train loss 0.2129 | val acc 94.26% | P/R/F1 0.736/0.766/0.751 | thr* 0.33\n"
     ]
    },
    {
     "name": "stderr",
     "output_type": "stream",
     "text": [
      "[Fold 5] Train 9/20: 100%|██████████| 322/322 [00:36<00:00,  8.81it/s, loss=0.204]\n"
     ]
    },
    {
     "name": "stdout",
     "output_type": "stream",
     "text": [
      "  -> train loss 0.2036 | val acc 95.37% | P/R/F1 0.768/0.845/0.805 | thr* 0.67\n"
     ]
    },
    {
     "name": "stderr",
     "output_type": "stream",
     "text": [
      "[Fold 5] Train 10/20: 100%|██████████| 322/322 [00:34<00:00,  9.24it/s, loss=0.201]\n"
     ]
    },
    {
     "name": "stdout",
     "output_type": "stream",
     "text": [
      "  -> train loss 0.2012 | val acc 95.20% | P/R/F1 0.778/0.804/0.791 | thr* 0.81\n"
     ]
    },
    {
     "name": "stderr",
     "output_type": "stream",
     "text": [
      "[Fold 5] Train 11/20: 100%|██████████| 322/322 [00:36<00:00,  8.85it/s, loss=0.202]\n"
     ]
    },
    {
     "name": "stdout",
     "output_type": "stream",
     "text": [
      "  -> train loss 0.2022 | val acc 94.91% | P/R/F1 0.736/0.856/0.791 | thr* 0.68\n",
      "  ⏹ Early stopping.\n",
      "\n",
      "==== K-FOLD SUMMARY ====\n",
      "Fold 1: F1=0.828, thr=0.77, weights=D:/acouslic-ai-cse4622/saved_weights\\frame_cls_fold1.pth\n",
      "Fold 2: F1=0.860, thr=0.60, weights=D:/acouslic-ai-cse4622/saved_weights\\frame_cls_fold2.pth\n",
      "Fold 3: F1=0.864, thr=0.87, weights=D:/acouslic-ai-cse4622/saved_weights\\frame_cls_fold3.pth\n",
      "Fold 4: F1=0.801, thr=0.77, weights=D:/acouslic-ai-cse4622/saved_weights\\frame_cls_fold4.pth\n",
      "Fold 5: F1=0.807, thr=0.74, weights=D:/acouslic-ai-cse4622/saved_weights\\frame_cls_fold5.pth\n",
      "\n",
      "Best fold: 3 | F1=0.864 | thr=0.87\n"
     ]
    }
   ],
   "source": [
    "# =========================\n",
    "# 8) Train one fold\n",
    "# =========================\n",
    "@torch.no_grad()\n",
    "def collect_logits_targets(model, loader):\n",
    "    model.eval()\n",
    "    all_logits, all_targets = [], []\n",
    "    for x, y in loader:\n",
    "        x = x.to(device, non_blocking=True).float()\n",
    "        y = y.to(device, non_blocking=True)\n",
    "        logits = model(x)\n",
    "        all_logits.append(logits.cpu())\n",
    "        all_targets.append(y.cpu())\n",
    "    return torch.cat(all_logits), torch.cat(all_targets).numpy()\n",
    "\n",
    "def find_best_threshold(logits, targets, goal=\"f1\", target_precision=None):\n",
    "    probs = F.softmax(logits, dim=1)[:, 1].numpy()\n",
    "    y = np.array(targets)\n",
    "    best_t, best_score = 0.5, -1.0\n",
    "    for t in np.linspace(0.3, 0.9, 61):\n",
    "        yhat = (probs >= t).astype(int)\n",
    "        p, r, f1, _ = precision_recall_fscore_support(y, yhat, average=\"binary\", zero_division=0)\n",
    "        score = (r if (target_precision and p >= target_precision) else f1 if goal == \"f1\" else p)\n",
    "        if score > best_score:\n",
    "            best_score, best_t = score, t\n",
    "    return best_t\n",
    "\n",
    "def train_one_fold(fold_id, tr_tiny, tr_dev45, va_tiny, va_dev45, ssl_encoder_path: str):\n",
    "    print(f\"\\n========== Fold {fold_id} ==========\")\n",
    "    # Build base datasets\n",
    "    parts_tr = []\n",
    "    if len(tr_tiny)>0:  parts_tr.append(PreloadedNPZFrameDataset(TRAIN_DIR, tr_tiny,  binary=True, out_size=IMAGE_SIZE))\n",
    "    if len(tr_dev45)>0: parts_tr.append(PreloadedNPZFrameDataset(VAL_DIR,   tr_dev45, binary=True, out_size=IMAGE_SIZE))\n",
    "    base_tr = ConcatDataset(parts_tr) if len(parts_tr)>1 else parts_tr[0]\n",
    "\n",
    "    parts_va = []\n",
    "    if len(va_tiny)>0:  parts_va.append(PreloadedNPZFrameDataset(TRAIN_DIR, va_tiny,  binary=True, out_size=IMAGE_SIZE))\n",
    "    if len(va_dev45)>0: parts_va.append(PreloadedNPZFrameDataset(VAL_DIR,   va_dev45, binary=True, out_size=IMAGE_SIZE))\n",
    "    base_va = ConcatDataset(parts_va) if len(parts_va)>1 else parts_va[0]\n",
    "\n",
    "    # Wrap transforms\n",
    "    train_ds = WithTransform(base_tr, transform=train_tf)\n",
    "    val_ds   = WithTransform(base_va, transform=val_tf)\n",
    "\n",
    "    # Combine labels/pids for sampler\n",
    "    if isinstance(base_tr, ConcatDataset):\n",
    "        tr_labels = torch.cat([d.labels for d in base_tr.datasets], dim=0)\n",
    "        tr_pids   = torch.cat([d.patient_ids for d in base_tr.datasets], dim=0)\n",
    "    else:\n",
    "        tr_labels = base_tr.labels\n",
    "        tr_pids   = base_tr.patient_ids\n",
    "\n",
    "    sampler = PatientAwareBalancedBatchSampler(\n",
    "        labels=tr_labels.tolist(),\n",
    "        patient_ids=tr_pids.tolist(),\n",
    "        batch_size=BATCH_SIZE,\n",
    "        frames_per_patient_side=2,\n",
    "        pos_label=1,\n",
    "        seed=SEED\n",
    "    )\n",
    "    train_loader = DataLoader(train_ds, batch_sampler=sampler, num_workers=0, pin_memory=True)\n",
    "    val_loader   = DataLoader(val_ds,   batch_size=VAL_BATCH, shuffle=False, num_workers=0, pin_memory=True)\n",
    "\n",
    "    # Model\n",
    "    model = FrameClassifier(num_classes=2).to(device)\n",
    "    if os.path.isfile(ssl_encoder_path):\n",
    "        enc_state = torch.load(ssl_encoder_path, map_location=device)\n",
    "        missing, unexpected = model.backbone.load_state_dict(enc_state, strict=False)\n",
    "        print(\"Loaded SimSiam encoder. missing:\", missing, \"unexpected:\", unexpected)\n",
    "\n",
    "    criterion = nn.CrossEntropyLoss(label_smoothing=0.05).to(device)\n",
    "\n",
    "    # Head warmup\n",
    "    for p in model.backbone.parameters(): p.requires_grad = False\n",
    "    for p in model.backbone.fc.parameters(): p.requires_grad = True\n",
    "    opt = torch.optim.AdamW(model.backbone.fc.parameters(), lr=LR_HEAD, weight_decay=WEIGHT_DEC)\n",
    "    scaler = amp.GradScaler(enabled=(device==\"cuda\"))\n",
    "\n",
    "    best_metric = -1.0\n",
    "    bad = 0\n",
    "    fold_save_path = os.path.join(SAVE_DIR, f\"frame_cls_fold{fold_id}.pth\")\n",
    "    best_thr = 0.5\n",
    "\n",
    "    for epoch in range(1, EPOCHS+1):\n",
    "        # unfreeze after warmup\n",
    "        if epoch == 2 and any(not p.requires_grad for p in model.backbone.parameters()):\n",
    "            for p in model.backbone.parameters(): p.requires_grad = True\n",
    "            opt = torch.optim.AdamW(model.parameters(), lr=LR_ALL, weight_decay=WEIGHT_DEC)\n",
    "\n",
    "        model.train()\n",
    "        running = 0.0; nseen=0\n",
    "        pbar = tqdm(train_loader, desc=f\"[Fold {fold_id}] Train {epoch}/{EPOCHS}\")\n",
    "        for x, y in pbar:\n",
    "            x = x.to(device, non_blocking=True).float()\n",
    "            y = y.to(device, non_blocking=True)\n",
    "            opt.zero_grad(set_to_none=True)\n",
    "            with amp.autocast(device_type=\"cuda\", enabled=(device==\"cuda\")):\n",
    "                logits = model(x)\n",
    "                loss = criterion(logits, y)\n",
    "            scaler.scale(loss).backward()\n",
    "            scaler.step(opt); scaler.update()\n",
    "            running += loss.item() * x.size(0); nseen += x.size(0)\n",
    "            pbar.set_postfix(loss=running/max(1,nseen))\n",
    "\n",
    "        train_loss = running/max(1,nseen)\n",
    "\n",
    "        # Validation\n",
    "        val_logits, val_targets = collect_logits_targets(model, val_loader)\n",
    "        t_star = find_best_threshold(val_logits, val_targets, goal=\"f1\")\n",
    "        probs = F.softmax(val_logits, dim=1)[:,1].numpy()\n",
    "        pred  = (probs >= t_star).astype(int)\n",
    "        p, r, f1, _ = precision_recall_fscore_support(val_targets, pred, average=\"binary\", zero_division=0)\n",
    "        acc = (pred == val_targets).mean()\n",
    "\n",
    "        print(f\"  -> train loss {train_loss:.4f} | val acc {acc*100:.2f}% | P/R/F1 {p:.3f}/{r:.3f}/{f1:.3f} | thr* {t_star:.2f}\")\n",
    "\n",
    "        metric = f1\n",
    "        if metric > best_metric:\n",
    "            best_metric = metric; bad = 0; best_thr = t_star\n",
    "            torch.save(model.state_dict(), fold_save_path)\n",
    "            print(f\"  ✅ Saved best (F1={best_metric:.3f} @ thr={best_thr:.2f})\")\n",
    "        else:\n",
    "            bad += 1\n",
    "            if bad >= PATIENCE:\n",
    "                print(\"  ⏹ Early stopping.\")\n",
    "                break\n",
    "\n",
    "    return fold_save_path, best_metric, best_thr\n",
    "\n",
    "# ---- Run all folds ----\n",
    "fold_summ = []\n",
    "for i, (tr_tiny, tr_dev45, va_tiny, va_dev45) in enumerate(folds, 1):\n",
    "    path, f1, thr = train_one_fold(i, tr_tiny, tr_dev45, va_tiny, va_dev45,\n",
    "                                   ssl_encoder_path=ENC_BEST)\n",
    "    fold_summ.append((i, f1, thr, path))\n",
    "\n",
    "print(\"\\n==== K-FOLD SUMMARY ====\")\n",
    "for i, f1, thr, path in fold_summ:\n",
    "    print(f\"Fold {i}: F1={f1:.3f}, thr={thr:.2f}, weights={path}\")\n",
    "\n",
    "best_fold = max(fold_summ, key=lambda t: t[1])\n",
    "print(f\"\\nBest fold: {best_fold[0]} | F1={best_fold[1]:.3f} | thr={best_fold[2]:.2f}\")\n",
    "BEST_MODEL_PATH = best_fold[3]\n",
    "BEST_THRESHOLD  = best_fold[2]\n"
   ]
  },
  {
   "cell_type": "code",
   "execution_count": 2,
   "id": "3b4762c3",
   "metadata": {},
   "outputs": [],
   "source": [
    "# # =========================\n",
    "# # 9) Inference on Final Test45 with plateau/hysteresis\n",
    "# # =========================\n",
    "# def letterbox_to_square_tensor(x: torch.Tensor, size=IMAGE_SIZE) -> torch.Tensor:\n",
    "#     is_batched = (x.dim() == 4)\n",
    "#     if not is_batched: x = x.unsqueeze(0)\n",
    "#     _, _, H, W = x.shape\n",
    "#     s = max(H, W)\n",
    "#     pad_h = (s - H) // 2; pad_w = (s - W) // 2\n",
    "#     x = F.pad(x, (pad_w, s-W-pad_w, pad_h, s-H-pad_h))\n",
    "#     x = F.interpolate(x, size=(size, size), mode=\"bilinear\", align_corners=False)\n",
    "#     return x if is_batched else x.squeeze(0)\n",
    "\n",
    "# def moving_average_safe(a: np.ndarray, w: int = 7) -> np.ndarray:\n",
    "#     if w <= 1: return a\n",
    "#     pad = w // 2\n",
    "#     ap = np.pad(a, (pad, pad), mode=\"edge\")\n",
    "#     k = np.ones(w, dtype=np.float32) / w\n",
    "#     return np.convolve(ap, k, mode=\"valid\")\n",
    "\n",
    "# def _segments_above_threshold(a: np.ndarray, low: float):\n",
    "#     on = a >= low; segs=[]; i=0; n=len(a)\n",
    "#     while i<n:\n",
    "#         if not on[i]: i+=1; continue\n",
    "#         j=i\n",
    "#         while j+1<n and on[j+1]: j+=1\n",
    "#         segs.append((i,j)); i=j+1\n",
    "#     return segs\n",
    "\n",
    "# def pick_best_index_from_plateaus(smoothed: np.ndarray, high: float, low: float, min_len: int) -> int:\n",
    "#     segs = _segments_above_threshold(smoothed, low)\n",
    "#     cand=[]\n",
    "#     for (s,e) in segs:\n",
    "#         seg = smoothed[s:e+1]\n",
    "#         if seg.max() >= high and (e-s+1) >= min_len:\n",
    "#             cand.append((s,e,seg.max()))\n",
    "#     if cand:\n",
    "#         cand.sort(key=lambda t: (t[2], (t[1]-t[0]+1)), reverse=True)\n",
    "#         s,e,_ = cand[0]\n",
    "#         return (s+e)//2\n",
    "#     return int(np.argmax(smoothed))\n",
    "\n",
    "# @torch.no_grad()\n",
    "# def predict_probs_over_frames(npz_path, model, batch_size=128):\n",
    "#     d = np.load(npz_path, mmap_mode=\"r\")\n",
    "#     frames = d[\"image\"]\n",
    "#     Tn = len(frames)\n",
    "#     probs = np.zeros(Tn, dtype=np.float32)\n",
    "#     off=0\n",
    "#     while off < Tn:\n",
    "#         chunk = frames[off:off+batch_size]\n",
    "#         x = torch.from_numpy(chunk).unsqueeze(1).float() / 255.0\n",
    "#         x = letterbox_to_square_tensor(x, size=IMAGE_SIZE)\n",
    "#         x = (x - 0.5) / 0.5\n",
    "#         x = x.to(device)\n",
    "#         with amp.autocast(device_type=\"cuda\", enabled=(device==\"cuda\")):\n",
    "#             logits = model(x)\n",
    "#             p = torch.softmax(logits, dim=1)[:,1].detach().cpu().numpy()\n",
    "#         probs[off:off+len(p)] = p\n",
    "#         off += len(p)\n",
    "#     return probs\n",
    "\n",
    "# @torch.no_grad()\n",
    "# def pick_best_frame(npz_path, model,\n",
    "#                     ma_window=11, high=0.90, low=0.80, min_run=5, allow_none=False):\n",
    "#     probs = predict_probs_over_frames(npz_path, model)\n",
    "#     sm = moving_average_safe(probs, w=ma_window)\n",
    "#     best_idx = pick_best_index_from_plateaus(sm, high=high, low=low, min_len=min_run)\n",
    "#     if allow_none and sm[best_idx] < high:\n",
    "#         return -1, float(sm.max()), probs, sm\n",
    "#     return int(best_idx), float(sm[best_idx]), probs, sm\n",
    "\n",
    "# def load_binary_labels(npz_path):\n",
    "#     y = np.load(npz_path, mmap_mode=\"r\")[\"label\"].astype(np.int64)\n",
    "#     y[y==2] = 1\n",
    "#     return y\n",
    "\n",
    "# # Load best fold\n",
    "# model = FrameClassifier(num_classes=2).to(device)\n",
    "# state = torch.load(BEST_MODEL_PATH, map_mode=device) if hasattr(torch, \"map_mode\") else torch.load(BEST_MODEL_PATH, map_location=device)\n",
    "# model.load_state_dict(state)\n",
    "# model.eval()\n",
    "\n",
    "# # Evaluate on Final Test45\n",
    "# MA_WINDOW = 13\n",
    "# HYST_HIGH = max(0.85, min(0.95, BEST_THRESHOLD))  # start near learned threshold\n",
    "# HYST_LOW  = max(0.0, HYST_HIGH - 0.10)\n",
    "# MIN_RUN   = 5\n",
    "# TOLS = (0, 3, 5)\n",
    "\n",
    "# details = []\n",
    "# print(f\"\\n[TEST] Evaluating {len(TEST_PATHS)} cases (MA={MA_WINDOW}, high={HYST_HIGH}, low={HYST_LOW}, run>={MIN_RUN})\")\n",
    "# for pth in tqdm(TEST_PATHS):\n",
    "#     y = load_binary_labels(pth)\n",
    "#     pos_idx = np.where(y==1)[0]\n",
    "#     has_pos = (len(pos_idx)>0)\n",
    "#     best_idx, best_score, probs, sm = pick_best_frame(\n",
    "#         pth, model, ma_window=MA_WINDOW, high=HYST_HIGH, low=HYST_LOW, min_run=MIN_RUN, allow_none=False\n",
    "#     )\n",
    "#     if has_pos:\n",
    "#         dist = int(np.min(np.abs(pos_idx - best_idx)))\n",
    "#         hit0 = (dist<=0)\n",
    "#     else:\n",
    "#         dist = 0\n",
    "#         hit0 = (y[best_idx]==0)\n",
    "#     details.append((os.path.basename(pth), best_idx, best_score, dist, hit0, has_pos))\n",
    "\n",
    "# print(\"\\n====== TEST SUMMARY ======\")\n",
    "# for tol in TOLS:\n",
    "#     correct = 0\n",
    "#     for _, _, _, dist, hit0, has_pos in details:\n",
    "#         if has_pos: correct += int(dist<=tol)\n",
    "#         else:       correct += int(hit0)\n",
    "#     print(f\"Top-1 accuracy @ tol=±{tol}: {100.0*correct/len(details):.1f}%\")\n",
    "\n",
    "# for f, bi, bs, d, h0, _ in details:\n",
    "#     tag = \"MISS\" if d>0 else \"HIT\"\n",
    "#     print(f\"{f}: best={bi:4d} prob={bs:.3f} dist={d:3d} {tag}\")\n"
   ]
  },
  {
   "cell_type": "code",
   "execution_count": 19,
   "id": "53616909",
   "metadata": {},
   "outputs": [
    {
     "name": "stdout",
     "output_type": "stream",
     "text": [
      "[Per-frame] Using ensemble of 5 model(s). Threshold=0.87\n",
      "\n",
      "[Per-frame] Evaluating 45 test sweeps...\n"
     ]
    },
    {
     "name": "stderr",
     "output_type": "stream",
     "text": [
      "100%|██████████| 45/45 [02:13<00:00,  2.98s/it]"
     ]
    },
    {
     "name": "stdout",
     "output_type": "stream",
     "text": [
      "\n",
      "====== Per-frame METRICS ======\n",
      "Frames: 37800 | Positives: 982 | Negatives: 36818\n",
      "Accuracy=0.9817  Precision=0.6378  Recall=0.6833  F1=0.6598  MCC=0.6508\n",
      "Confusion matrix (rows=true [pos,neg], cols=pred [pos,neg]):\n",
      "[[  671   311]\n",
      " [  381 36437]]\n"
     ]
    },
    {
     "name": "stderr",
     "output_type": "stream",
     "text": [
      "\n"
     ]
    },
    {
     "data": {
      "image/png": "[encoded data removed]",
      "text/plain": [
       "<Figure size 550x480 with 2 Axes>"
      ]
     },
     "metadata": {},
     "output_type": "display_data"
    }
   ],
   "source": [
    "# =========================\n",
    "# Per-frame inference + confusion matrix + MCC\n",
    "# =========================\n",
    "import os, numpy as np, torch\n",
    "import torch.nn.functional as F\n",
    "from torch import amp\n",
    "from tqdm import tqdm\n",
    "from sklearn.metrics import confusion_matrix, precision_recall_fscore_support, matthews_corrcoef\n",
    "import matplotlib.pyplot as plt\n",
    "\n",
    "# --- fallbacks if not already defined ---\n",
    "DEVICE     = \"cuda\" if torch.cuda.is_available() else \"cpu\"\n",
    "IMAGE_SIZE = 224\n",
    "if 'TEST_PATHS' not in globals():\n",
    "    TEST_DIR   = \"D:/dataset/converted_classifier_npz_compact\"\n",
    "    TEST_SLICE = (255, 300)  # [start, end)\n",
    "    test_files = sorted([f for f in os.listdir(TEST_DIR) if f.endswith(\".npz\")])[TEST_SLICE[0]:TEST_SLICE[1]]\n",
    "    TEST_PATHS = [os.path.join(TEST_DIR, f) for f in test_files]\n",
    "\n",
    "# If you ran K-fold, set MODEL_PATHS = [best_fold_path1, best_fold_path2, ...]\n",
    "if 'MODEL_PATHS' not in globals():\n",
    "    # fallback: single best model\n",
    "    MODEL_PATHS = [BEST_MODEL_PATH] if 'BEST_MODEL_PATH' in globals() else [\n",
    "        \"D:/acouslic-ai-cse4622/saved_weights/best_frame_classifier_afra.pth\"\n",
    "    ]\n",
    "\n",
    "# Per-frame decision threshold\n",
    "THRESH_FRAME = BEST_THRESHOLD if 'BEST_THRESHOLD' in globals() else 0.5\n",
    "BATCH_SIZE   = 128\n",
    "\n",
    "def letterbox_to_square_tensor(x: torch.Tensor, size=IMAGE_SIZE) -> torch.Tensor:\n",
    "    is_batched = (x.dim() == 4)\n",
    "    if not is_batched: x = x.unsqueeze(0)\n",
    "    _, _, H, W = x.shape\n",
    "    s = max(H, W)\n",
    "    pad_h = (s - H) // 2\n",
    "    pad_w = (s - W) // 2\n",
    "    x = F.pad(x, (pad_w, s - W - pad_w, pad_h, s - H - pad_h))\n",
    "    x = F.interpolate(x, size=(size, size), mode=\"bilinear\", align_corners=False)\n",
    "    return x if is_batched else x.squeeze(0)\n",
    "\n",
    "def load_binary_labels(npz_path):\n",
    "    y = np.load(npz_path, mmap_mode=\"r\")[\"label\"].astype(np.int64)\n",
    "    y[y == 2] = 1  # merge suboptimal into positive\n",
    "    return y\n",
    "\n",
    "# --- Load models for ensemble ---\n",
    "def build_model():\n",
    "    m = FrameClassifier(num_classes=2).to(DEVICE)\n",
    "    m.eval()\n",
    "    return m\n",
    "\n",
    "def load_state(m, path):\n",
    "    ckpt = torch.load(path, map_location=DEVICE)\n",
    "    state = ckpt.get(\"model_state\", ckpt)  # supports plain state_dict or full checkpoint\n",
    "    m.load_state_dict(state)\n",
    "    return m\n",
    "\n",
    "MODELS = []\n",
    "for p in MODEL_PATHS:\n",
    "    m = build_model()\n",
    "    load_state(m, p)\n",
    "    MODELS.append(m)\n",
    "print(f\"[Per-frame] Using ensemble of {len(MODELS)} model(s). Threshold={THRESH_FRAME:.2f}\")\n",
    "\n",
    "@torch.no_grad()\n",
    "def predict_probs_over_frames_ensemble(npz_path, models, batch_size=BATCH_SIZE):\n",
    "    d = np.load(npz_path, mmap_mode=\"r\")\n",
    "    frames = d[\"image\"]  # (T,H,W) uint8\n",
    "    Tn = len(frames)\n",
    "    probs = np.zeros(Tn, dtype=np.float32)\n",
    "    off = 0\n",
    "    while off < Tn:\n",
    "        chunk = frames[off:off+batch_size]\n",
    "        x = torch.from_numpy(chunk).unsqueeze(1).float() / 255.0      # (B,1,H,W) [0,1]\n",
    "        x = letterbox_to_square_tensor(x, size=IMAGE_SIZE)            # (B,1,S,S)\n",
    "        x = (x - 0.5) / 0.5                                           # [-1,1]\n",
    "        x = x.to(DEVICE)\n",
    "        # average model probabilities\n",
    "        p_sum = None\n",
    "        with amp.autocast(device_type=\"cuda\", enabled=(DEVICE==\"cuda\")):\n",
    "            for m in models:\n",
    "                logits = m(x)\n",
    "                p = torch.softmax(logits, dim=1)[:, 1]\n",
    "                p_sum = p if p_sum is None else (p_sum + p)\n",
    "        p_avg = (p_sum / len(models)).detach().cpu().numpy()\n",
    "        probs[off:off+len(p_avg)] = p_avg\n",
    "        off += len(p_avg)\n",
    "    return probs\n",
    "\n",
    "# --- Accumulate per-frame labels/preds across all test sweeps ---\n",
    "y_true_all = []\n",
    "y_pred_all = []\n",
    "y_prob_all = []\n",
    "\n",
    "print(f\"\\n[Per-frame] Evaluating {len(TEST_PATHS)} test sweeps...\")\n",
    "for pth in tqdm(TEST_PATHS):\n",
    "    yt = load_binary_labels(pth)                         # (T,)\n",
    "    pr = predict_probs_over_frames_ensemble(pth, MODELS) # (T,)\n",
    "    yp = (pr >= THRESH_FRAME).astype(np.int64)\n",
    "\n",
    "    y_true_all.append(yt)\n",
    "    y_pred_all.append(yp)\n",
    "    y_prob_all.append(pr)\n",
    "\n",
    "y_true_all = np.concatenate(y_true_all, axis=0)\n",
    "y_pred_all = np.concatenate(y_pred_all, axis=0)\n",
    "y_prob_all = np.concatenate(y_prob_all, axis=0)\n",
    "\n",
    "# --- Metrics ---\n",
    "cm = confusion_matrix(y_true_all, y_pred_all, labels=[1, 0])  # rows: true [pos,neg], cols: pred [pos,neg]\n",
    "prec, rec, f1, _ = precision_recall_fscore_support(y_true_all, y_pred_all, average=\"binary\", zero_division=0)\n",
    "mcc = matthews_corrcoef(y_true_all, y_pred_all)\n",
    "acc = (y_true_all == y_pred_all).mean()\n",
    "\n",
    "print(\"\\n====== Per-frame METRICS ======\")\n",
    "print(f\"Frames: {len(y_true_all)} | Positives: {int(y_true_all.sum())} | Negatives: {int((1-y_true_all).sum())}\")\n",
    "print(f\"Accuracy={acc:.4f}  Precision={prec:.4f}  Recall={rec:.4f}  F1={f1:.4f}  MCC={mcc:.4f}\")\n",
    "print(\"Confusion matrix (rows=true [pos,neg], cols=pred [pos,neg]):\")\n",
    "print(cm)\n",
    "\n",
    "# --- Pretty confusion matrix: counts + row-normalized percentages ---\n",
    "def plot_cm_pretty(cm, acc, prec, rec, f1, mcc,\n",
    "                   class_names=('Positive','Negative'),\n",
    "                   title='Per-frame Confusion Matrix'):\n",
    "    cm = np.asarray(cm)\n",
    "    # Row-normalize (each row sums to 1) → recall per class\n",
    "    row_sum = cm.sum(axis=1, keepdims=True).clip(min=1)\n",
    "    cm_norm = cm / row_sum\n",
    "\n",
    "    fig, ax = plt.subplots(figsize=(5.5, 4.8))\n",
    "    im = ax.imshow(cm_norm, vmin=0.0, vmax=1.0, interpolation='nearest')\n",
    "    cbar = plt.colorbar(im, ax=ax, fraction=0.046, pad=0.04)\n",
    "    cbar.ax.set_ylabel('Row-normalized fraction', rotation=270, labelpad=14)\n",
    "\n",
    "    # Ticks & labels (order matches labels=[1,0] above)\n",
    "    ax.set_xticks([0, 1]); ax.set_yticks([0, 1])\n",
    "    ax.set_xticklabels([f'Pred {c}' for c in class_names], fontsize=11)\n",
    "    ax.set_yticklabels([f'True {c}' for c in class_names], fontsize=11)\n",
    "\n",
    "    # Annotate each cell with count and percentage\n",
    "    for i in range(2):\n",
    "        for j in range(2):\n",
    "            ax.text(j, i, f\"{cm[i, j]:,}\\n({cm_norm[i, j]*100:.1f}%)\",\n",
    "                    ha='center', va='center', fontsize=11, fontweight='bold')\n",
    "\n",
    "    # Make cells square + add a subtle grid\n",
    "    ax.set_aspect('equal')\n",
    "    ax.set_xlim(-0.5, 1.5); ax.set_ylim(1.5, -0.5)\n",
    "    ax.set_xticks(np.arange(-.5, 2, 1), minor=True)\n",
    "    ax.set_yticks(np.arange(-.5, 2, 1), minor=True)\n",
    "    ax.grid(which='minor', linestyle='-', linewidth=1, alpha=0.5)\n",
    "    ax.tick_params(which='minor', bottom=False, left=False)\n",
    "\n",
    "    # Title with metrics\n",
    "    ax.set_title(\n",
    "        f\"{title}\\nAcc={acc:.3f} | Prec={prec:.3f} | Rec={rec:.3f} | F1={f1:.3f} | MCC={mcc:.3f}\",\n",
    "        fontsize=12\n",
    "    )\n",
    "    ax.set_xlabel('Predicted'); ax.set_ylabel('True')\n",
    "    plt.tight_layout()\n",
    "    plt.show()\n",
    "\n",
    "# Call it after you compute cm/metrics:\n",
    "plot_cm_pretty(cm, acc, prec, rec, f1, mcc,\n",
    "               class_names=('Positive','Negative'),\n",
    "               title='Per-frame Confusion Matrix (Best Fold)')\n",
    "\n"
   ]
  },
  {
   "cell_type": "code",
   "execution_count": 18,
   "id": "5ca8f077",
   "metadata": {},
   "outputs": [
    {
     "name": "stdout",
     "output_type": "stream",
     "text": [
      "[Per-frame] Using BEST fold model: D:/acouslic-ai-cse4622/saved_weights\\frame_cls_fold3.pth\n",
      "[Per-frame] Threshold = 0.87\n",
      "\n",
      "[Per-frame] Evaluating 45 test sweeps...\n"
     ]
    },
    {
     "name": "stderr",
     "output_type": "stream",
     "text": [
      "100%|██████████| 45/45 [00:42<00:00,  1.05it/s]"
     ]
    },
    {
     "name": "stdout",
     "output_type": "stream",
     "text": [
      "\n",
      "====== Per-frame METRICS ======\n",
      "Frames: 37800 | Positives: 982 | Negatives: 36818\n",
      "Accuracy=0.9648  Precision=0.4126  Recall=0.8360  F1=0.5525  MCC=0.5729\n",
      "Confusion matrix (rows=true [pos,neg], cols=pred [pos,neg]):\n",
      "[[  821   161]\n",
      " [ 1169 35649]]\n"
     ]
    },
    {
     "name": "stderr",
     "output_type": "stream",
     "text": [
      "\n"
     ]
    },
    {
     "data": {
      "image/png": "[encoded data removed]",
      "text/plain": [
       "<Figure size 400x400 with 1 Axes>"
      ]
     },
     "metadata": {},
     "output_type": "display_data"
    }
   ],
   "source": [
    "# =========================\n",
    "# Per-frame inference (single best fold) + confusion matrix + MCC\n",
    "# =========================\n",
    "import os, numpy as np, torch\n",
    "import torch.nn.functional as F\n",
    "from torch import amp\n",
    "from tqdm import tqdm\n",
    "from sklearn.metrics import confusion_matrix, precision_recall_fscore_support, matthews_corrcoef\n",
    "import matplotlib.pyplot as plt\n",
    "\n",
    "# ---- Config / fallbacks ----\n",
    "DEVICE     = \"cuda\" if torch.cuda.is_available() else \"cpu\"\n",
    "IMAGE_SIZE = 224\n",
    "BATCH_SIZE = 128\n",
    "\n",
    "# If TEST_PATHS wasn't built earlier, create it from your final test slice.\n",
    "if 'TEST_PATHS' not in globals():\n",
    "    TEST_DIR   = \"D:/dataset/converted_classifier_npz_compact\"\n",
    "    TEST_SLICE = (255, 300)  # [start, end)\n",
    "    test_files = sorted([f for f in os.listdir(TEST_DIR) if f.endswith(\".npz\")])[TEST_SLICE[0]:TEST_SLICE[1]]\n",
    "    TEST_PATHS = [os.path.join(TEST_DIR, f) for f in test_files]\n",
    "\n",
    "# Load best model path / threshold from CV if available; otherwise fallback\n",
    "MODEL_PATH    = BEST_MODEL_PATH if 'BEST_MODEL_PATH' in globals() else \\\n",
    "                \"D:/acouslic-ai-cse4622/saved_weights/best_frame_classifier_afra.pth\"\n",
    "THRESH_FRAME  = BEST_THRESHOLD  if 'BEST_THRESHOLD'  in globals() else 0.87\n",
    "\n",
    "# ---- Utils (match training preprocessing) ----\n",
    "def letterbox_to_square_tensor(x: torch.Tensor, size=IMAGE_SIZE) -> torch.Tensor:\n",
    "    is_batched = (x.dim() == 4)\n",
    "    if not is_batched: x = x.unsqueeze(0)\n",
    "    _, _, H, W = x.shape\n",
    "    s = max(H, W)\n",
    "    pad_h = (s - H) // 2\n",
    "    pad_w = (s - W) // 2\n",
    "    x = F.pad(x, (pad_w, s - W - pad_w, pad_h, s - H - pad_h))\n",
    "    x = F.interpolate(x, size=(size, size), mode=\"bilinear\", align_corners=False)\n",
    "    return x if is_batched else x.squeeze(0)\n",
    "\n",
    "def load_binary_labels(npz_path):\n",
    "    y = np.load(npz_path, mmap_mode=\"r\")[\"label\"].astype(np.int64)\n",
    "    y[y == 2] = 1  # merge suboptimal into positive\n",
    "    return y\n",
    "\n",
    "# ---- Build & load model ----\n",
    "model = FrameClassifier(num_classes=2).to(DEVICE)\n",
    "ckpt  = torch.load(MODEL_PATH, map_location=DEVICE)\n",
    "state = ckpt.get(\"model_state\", ckpt)  # supports plain state_dict or full checkpoint\n",
    "model.load_state_dict(state)\n",
    "model.eval()\n",
    "\n",
    "print(f\"[Per-frame] Using BEST fold model: {MODEL_PATH}\")\n",
    "print(f\"[Per-frame] Threshold = {THRESH_FRAME:.2f}\")\n",
    "\n",
    "@torch.no_grad()\n",
    "def predict_probs_over_frames(npz_path, model, batch_size=BATCH_SIZE):\n",
    "    d = np.load(npz_path, mmap_mode=\"r\")\n",
    "    frames = d[\"image\"]  # (T,H,W) uint8\n",
    "    Tn = len(frames)\n",
    "    probs = np.zeros(Tn, dtype=np.float32)\n",
    "    off = 0\n",
    "    while off < Tn:\n",
    "        chunk = frames[off:off+batch_size]\n",
    "        x = torch.from_numpy(chunk).unsqueeze(1).float() / 255.0      # (B,1,H,W) [0,1]\n",
    "        x = letterbox_to_square_tensor(x, size=IMAGE_SIZE)            # (B,1,S,S)\n",
    "        x = (x - 0.5) / 0.5                                           # [-1,1]\n",
    "        x = x.to(DEVICE)\n",
    "\n",
    "        with amp.autocast(device_type=\"cuda\", enabled=(DEVICE==\"cuda\")):\n",
    "            logits = model(x)\n",
    "            p = torch.softmax(logits, dim=1)[:, 1].detach().cpu().numpy()\n",
    "        probs[off:off+len(p)] = p\n",
    "        off += len(p)\n",
    "    return probs\n",
    "\n",
    "# ---- Accumulate per-frame labels/preds across all test sweeps ----\n",
    "y_true_all, y_pred_all, y_prob_all = [], [], []\n",
    "\n",
    "print(f\"\\n[Per-frame] Evaluating {len(TEST_PATHS)} test sweeps...\")\n",
    "for pth in tqdm(TEST_PATHS):\n",
    "    yt = load_binary_labels(pth)         # (T,)\n",
    "    pr = predict_probs_over_frames(pth, model)  # (T,)\n",
    "    yp = (pr >= THRESH_FRAME).astype(np.int64)\n",
    "\n",
    "    y_true_all.append(yt)\n",
    "    y_pred_all.append(yp)\n",
    "    y_prob_all.append(pr)\n",
    "\n",
    "y_true_all = np.concatenate(y_true_all, axis=0)\n",
    "y_pred_all = np.concatenate(y_pred_all, axis=0)\n",
    "y_prob_all = np.concatenate(y_prob_all, axis=0)\n",
    "\n",
    "# ---- Metrics ----\n",
    "cm = confusion_matrix(y_true_all, y_pred_all, labels=[1, 0])  # rows: true [pos,neg], cols: pred [pos,neg]\n",
    "prec, rec, f1, _ = precision_recall_fscore_support(y_true_all, y_pred_all, average=\"binary\", zero_division=0)\n",
    "mcc = matthews_corrcoef(y_true_all, y_pred_all)\n",
    "acc = (y_true_all == y_pred_all).mean()\n",
    "\n",
    "pos_count = int(y_true_all.sum())\n",
    "neg_count = int((y_true_all == 0).sum())\n",
    "\n",
    "print(\"\\n====== Per-frame METRICS ======\")\n",
    "print(f\"Frames: {len(y_true_all)} | Positives: {pos_count} | Negatives: {neg_count}\")\n",
    "print(f\"Accuracy={acc:.4f}  Precision={prec:.4f}  Recall={rec:.4f}  F1={f1:.4f}  MCC={mcc:.4f}\")\n",
    "print(\"Confusion matrix (rows=true [pos,neg], cols=pred [pos,neg]):\")\n",
    "print(cm)\n",
    "\n",
    "# ---- Confusion matrix plot ----\n",
    "fig, ax = plt.subplots(figsize=(4, 4))\n",
    "im = ax.imshow(cm)\n",
    "ax.set_xticks([0, 1]); ax.set_yticks([0, 1])\n",
    "ax.set_xticklabels(['Pred Pos', 'Pred Neg'])\n",
    "ax.set_yticklabels(['True Pos', 'True Neg'])\n",
    "ax.set_xlabel('Predicted'); ax.set_ylabel('True')\n",
    "ax.set_title('Per-frame Confusion Matrix (Best Fold)')\n",
    "for i in range(2):\n",
    "    for j in range(2):\n",
    "        ax.text(j, i, int(cm[i, j]), ha='center', va='center')\n",
    "plt.tight_layout()\n",
    "plt.show()\n"
   ]
  }
 ],
 "metadata": {
  "kernelspec": {
   "display_name": "torch310",
   "language": "python",
   "name": "python3"
  },
  "language_info": {
   "codemirror_mode": {
    "name": "ipython",
    "version": 3
   },
   "file_extension": ".py",
   "mimetype": "text/x-python",
   "name": "python",
   "nbconvert_exporter": "python",
   "pygments_lexer": "ipython3",
   "version": "3.10.18"
  }
 },
 "nbformat": 4,
 "nbformat_minor": 5
}
